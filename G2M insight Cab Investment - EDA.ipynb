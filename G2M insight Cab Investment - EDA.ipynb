{
 "cells": [
  {
   "cell_type": "markdown",
   "metadata": {},
   "source": [
    "## Summary\n",
    "\n",
    "Go-to-Market(G2M) analysis EDA will be performed on two taxi companies (Yellow and Pink). Data on transactions, customers and cities are provided. Period of data is 2016 - 2018."
   ]
  },
  {
   "cell_type": "code",
   "execution_count": 1,
   "metadata": {},
   "outputs": [],
   "source": [
    "# import pandas\n",
    "import matplotlib.pyplot as plt\n",
    "import pandas as pd\n",
    "import numpy as np\n",
    "import seaborn as sns"
   ]
  },
  {
   "cell_type": "markdown",
   "metadata": {},
   "source": [
    "## Cleaning Data"
   ]
  },
  {
   "cell_type": "markdown",
   "metadata": {},
   "source": [
    "### Loading data"
   ]
  },
  {
   "cell_type": "code",
   "execution_count": 2,
   "metadata": {},
   "outputs": [
    {
     "data": {
      "text/html": [
       "<div>\n",
       "<style scoped>\n",
       "    .dataframe tbody tr th:only-of-type {\n",
       "        vertical-align: middle;\n",
       "    }\n",
       "\n",
       "    .dataframe tbody tr th {\n",
       "        vertical-align: top;\n",
       "    }\n",
       "\n",
       "    .dataframe thead th {\n",
       "        text-align: right;\n",
       "    }\n",
       "</style>\n",
       "<table border=\"1\" class=\"dataframe\">\n",
       "  <thead>\n",
       "    <tr style=\"text-align: right;\">\n",
       "      <th></th>\n",
       "      <th>Transaction ID</th>\n",
       "      <th>Date of Travel</th>\n",
       "      <th>Company</th>\n",
       "      <th>City</th>\n",
       "      <th>KM Travelled</th>\n",
       "      <th>Price Charged</th>\n",
       "      <th>Cost of Trip</th>\n",
       "    </tr>\n",
       "  </thead>\n",
       "  <tbody>\n",
       "    <tr>\n",
       "      <th>0</th>\n",
       "      <td>10000011</td>\n",
       "      <td>42377</td>\n",
       "      <td>Pink Cab</td>\n",
       "      <td>ATLANTA GA</td>\n",
       "      <td>30.45</td>\n",
       "      <td>370.95</td>\n",
       "      <td>313.635</td>\n",
       "    </tr>\n",
       "    <tr>\n",
       "      <th>1</th>\n",
       "      <td>10000012</td>\n",
       "      <td>42375</td>\n",
       "      <td>Pink Cab</td>\n",
       "      <td>ATLANTA GA</td>\n",
       "      <td>28.62</td>\n",
       "      <td>358.52</td>\n",
       "      <td>334.854</td>\n",
       "    </tr>\n",
       "    <tr>\n",
       "      <th>2</th>\n",
       "      <td>10000013</td>\n",
       "      <td>42371</td>\n",
       "      <td>Pink Cab</td>\n",
       "      <td>ATLANTA GA</td>\n",
       "      <td>9.04</td>\n",
       "      <td>125.20</td>\n",
       "      <td>97.632</td>\n",
       "    </tr>\n",
       "  </tbody>\n",
       "</table>\n",
       "</div>"
      ],
      "text/plain": [
       "   Transaction ID  Date of Travel   Company        City  KM Travelled  \\\n",
       "0        10000011           42377  Pink Cab  ATLANTA GA         30.45   \n",
       "1        10000012           42375  Pink Cab  ATLANTA GA         28.62   \n",
       "2        10000013           42371  Pink Cab  ATLANTA GA          9.04   \n",
       "\n",
       "   Price Charged  Cost of Trip  \n",
       "0         370.95       313.635  \n",
       "1         358.52       334.854  \n",
       "2         125.20        97.632  "
      ]
     },
     "execution_count": 2,
     "metadata": {},
     "output_type": "execute_result"
    }
   ],
   "source": [
    "# read Cab_Data.csv\n",
    "\n",
    "cab_data = pd.read_csv('../data/Cab_Data.csv')\n",
    "cab_data.head(3)"
   ]
  },
  {
   "cell_type": "code",
   "execution_count": 3,
   "metadata": {},
   "outputs": [
    {
     "data": {
      "text/plain": [
       "(359392, 7)"
      ]
     },
     "execution_count": 3,
     "metadata": {},
     "output_type": "execute_result"
    }
   ],
   "source": [
    "# get dimension\n",
    "\n",
    "cab_data.shape"
   ]
  },
  {
   "cell_type": "code",
   "execution_count": 4,
   "metadata": {},
   "outputs": [
    {
     "data": {
      "text/html": [
       "<div>\n",
       "<style scoped>\n",
       "    .dataframe tbody tr th:only-of-type {\n",
       "        vertical-align: middle;\n",
       "    }\n",
       "\n",
       "    .dataframe tbody tr th {\n",
       "        vertical-align: top;\n",
       "    }\n",
       "\n",
       "    .dataframe thead th {\n",
       "        text-align: right;\n",
       "    }\n",
       "</style>\n",
       "<table border=\"1\" class=\"dataframe\">\n",
       "  <thead>\n",
       "    <tr style=\"text-align: right;\">\n",
       "      <th></th>\n",
       "      <th>City</th>\n",
       "      <th>Population</th>\n",
       "      <th>Users</th>\n",
       "    </tr>\n",
       "  </thead>\n",
       "  <tbody>\n",
       "    <tr>\n",
       "      <th>0</th>\n",
       "      <td>NEW YORK NY</td>\n",
       "      <td>8405837</td>\n",
       "      <td>302149</td>\n",
       "    </tr>\n",
       "    <tr>\n",
       "      <th>1</th>\n",
       "      <td>CHICAGO IL</td>\n",
       "      <td>1955130</td>\n",
       "      <td>164468</td>\n",
       "    </tr>\n",
       "    <tr>\n",
       "      <th>2</th>\n",
       "      <td>LOS ANGELES CA</td>\n",
       "      <td>1595037</td>\n",
       "      <td>144132</td>\n",
       "    </tr>\n",
       "  </tbody>\n",
       "</table>\n",
       "</div>"
      ],
      "text/plain": [
       "             City  Population   Users\n",
       "0     NEW YORK NY     8405837  302149\n",
       "1      CHICAGO IL     1955130  164468\n",
       "2  LOS ANGELES CA     1595037  144132"
      ]
     },
     "execution_count": 4,
     "metadata": {},
     "output_type": "execute_result"
    }
   ],
   "source": [
    "# read City.csv data\n",
    "# thousands=',' argument to charge population and users as Int type from beginning\n",
    "\n",
    "city = pd.read_csv('../data/City.csv', thousands=',')\n",
    "city.head(3)"
   ]
  },
  {
   "cell_type": "code",
   "execution_count": 5,
   "metadata": {},
   "outputs": [
    {
     "data": {
      "text/plain": [
       "(20, 3)"
      ]
     },
     "execution_count": 5,
     "metadata": {},
     "output_type": "execute_result"
    }
   ],
   "source": [
    "# get dimension\n",
    "\n",
    "city.shape"
   ]
  },
  {
   "cell_type": "code",
   "execution_count": 6,
   "metadata": {},
   "outputs": [
    {
     "data": {
      "text/html": [
       "<div>\n",
       "<style scoped>\n",
       "    .dataframe tbody tr th:only-of-type {\n",
       "        vertical-align: middle;\n",
       "    }\n",
       "\n",
       "    .dataframe tbody tr th {\n",
       "        vertical-align: top;\n",
       "    }\n",
       "\n",
       "    .dataframe thead th {\n",
       "        text-align: right;\n",
       "    }\n",
       "</style>\n",
       "<table border=\"1\" class=\"dataframe\">\n",
       "  <thead>\n",
       "    <tr style=\"text-align: right;\">\n",
       "      <th></th>\n",
       "      <th>Customer ID</th>\n",
       "      <th>Gender</th>\n",
       "      <th>Age</th>\n",
       "      <th>Income (USD/Month)</th>\n",
       "    </tr>\n",
       "  </thead>\n",
       "  <tbody>\n",
       "    <tr>\n",
       "      <th>0</th>\n",
       "      <td>29290</td>\n",
       "      <td>Male</td>\n",
       "      <td>28</td>\n",
       "      <td>10813</td>\n",
       "    </tr>\n",
       "    <tr>\n",
       "      <th>1</th>\n",
       "      <td>27703</td>\n",
       "      <td>Male</td>\n",
       "      <td>27</td>\n",
       "      <td>9237</td>\n",
       "    </tr>\n",
       "    <tr>\n",
       "      <th>2</th>\n",
       "      <td>28712</td>\n",
       "      <td>Male</td>\n",
       "      <td>53</td>\n",
       "      <td>11242</td>\n",
       "    </tr>\n",
       "  </tbody>\n",
       "</table>\n",
       "</div>"
      ],
      "text/plain": [
       "   Customer ID Gender  Age  Income (USD/Month)\n",
       "0        29290   Male   28               10813\n",
       "1        27703   Male   27                9237\n",
       "2        28712   Male   53               11242"
      ]
     },
     "execution_count": 6,
     "metadata": {},
     "output_type": "execute_result"
    }
   ],
   "source": [
    "# read Customer_ID.csv\n",
    "\n",
    "customer_ID = pd.read_csv('../data/Customer_ID.csv')\n",
    "customer_ID.head(3)"
   ]
  },
  {
   "cell_type": "code",
   "execution_count": 7,
   "metadata": {},
   "outputs": [
    {
     "data": {
      "text/plain": [
       "(49171, 4)"
      ]
     },
     "execution_count": 7,
     "metadata": {},
     "output_type": "execute_result"
    }
   ],
   "source": [
    "# get dimension\n",
    "\n",
    "customer_ID.shape"
   ]
  },
  {
   "cell_type": "code",
   "execution_count": 8,
   "metadata": {},
   "outputs": [
    {
     "data": {
      "text/html": [
       "<div>\n",
       "<style scoped>\n",
       "    .dataframe tbody tr th:only-of-type {\n",
       "        vertical-align: middle;\n",
       "    }\n",
       "\n",
       "    .dataframe tbody tr th {\n",
       "        vertical-align: top;\n",
       "    }\n",
       "\n",
       "    .dataframe thead th {\n",
       "        text-align: right;\n",
       "    }\n",
       "</style>\n",
       "<table border=\"1\" class=\"dataframe\">\n",
       "  <thead>\n",
       "    <tr style=\"text-align: right;\">\n",
       "      <th></th>\n",
       "      <th>Transaction ID</th>\n",
       "      <th>Customer ID</th>\n",
       "      <th>Payment_Mode</th>\n",
       "    </tr>\n",
       "  </thead>\n",
       "  <tbody>\n",
       "    <tr>\n",
       "      <th>0</th>\n",
       "      <td>10000011</td>\n",
       "      <td>29290</td>\n",
       "      <td>Card</td>\n",
       "    </tr>\n",
       "    <tr>\n",
       "      <th>1</th>\n",
       "      <td>10000012</td>\n",
       "      <td>27703</td>\n",
       "      <td>Card</td>\n",
       "    </tr>\n",
       "    <tr>\n",
       "      <th>2</th>\n",
       "      <td>10000013</td>\n",
       "      <td>28712</td>\n",
       "      <td>Cash</td>\n",
       "    </tr>\n",
       "  </tbody>\n",
       "</table>\n",
       "</div>"
      ],
      "text/plain": [
       "   Transaction ID  Customer ID Payment_Mode\n",
       "0        10000011        29290         Card\n",
       "1        10000012        27703         Card\n",
       "2        10000013        28712         Cash"
      ]
     },
     "execution_count": 8,
     "metadata": {},
     "output_type": "execute_result"
    }
   ],
   "source": [
    "# read Transaction_ID.csv\n",
    "\n",
    "transaction_ID = pd.read_csv('../data/Transaction_ID.csv')\n",
    "transaction_ID.head(3)"
   ]
  },
  {
   "cell_type": "code",
   "execution_count": 9,
   "metadata": {},
   "outputs": [
    {
     "data": {
      "text/plain": [
       "(440098, 3)"
      ]
     },
     "execution_count": 9,
     "metadata": {},
     "output_type": "execute_result"
    }
   ],
   "source": [
    "# get dimension\n",
    "\n",
    "transaction_ID.shape"
   ]
  },
  {
   "cell_type": "markdown",
   "metadata": {},
   "source": [
    "### Merging cab_data, transaction_ID and costumer_ID"
   ]
  },
  {
   "cell_type": "code",
   "execution_count": 10,
   "metadata": {},
   "outputs": [
    {
     "data": {
      "text/html": [
       "<div>\n",
       "<style scoped>\n",
       "    .dataframe tbody tr th:only-of-type {\n",
       "        vertical-align: middle;\n",
       "    }\n",
       "\n",
       "    .dataframe tbody tr th {\n",
       "        vertical-align: top;\n",
       "    }\n",
       "\n",
       "    .dataframe thead th {\n",
       "        text-align: right;\n",
       "    }\n",
       "</style>\n",
       "<table border=\"1\" class=\"dataframe\">\n",
       "  <thead>\n",
       "    <tr style=\"text-align: right;\">\n",
       "      <th></th>\n",
       "      <th>Transaction ID</th>\n",
       "      <th>Customer ID</th>\n",
       "      <th>Date of Travel</th>\n",
       "      <th>Company</th>\n",
       "      <th>City</th>\n",
       "      <th>KM Travelled</th>\n",
       "      <th>Price Charged</th>\n",
       "      <th>Cost of Trip</th>\n",
       "      <th>Payment_Mode</th>\n",
       "      <th>Gender</th>\n",
       "      <th>Age</th>\n",
       "      <th>Income (USD/Month)</th>\n",
       "    </tr>\n",
       "  </thead>\n",
       "  <tbody>\n",
       "    <tr>\n",
       "      <th>0</th>\n",
       "      <td>10000011</td>\n",
       "      <td>29290</td>\n",
       "      <td>42377</td>\n",
       "      <td>Pink Cab</td>\n",
       "      <td>ATLANTA GA</td>\n",
       "      <td>30.45</td>\n",
       "      <td>370.95</td>\n",
       "      <td>313.635</td>\n",
       "      <td>Card</td>\n",
       "      <td>Male</td>\n",
       "      <td>28</td>\n",
       "      <td>10813</td>\n",
       "    </tr>\n",
       "    <tr>\n",
       "      <th>1</th>\n",
       "      <td>10000012</td>\n",
       "      <td>27703</td>\n",
       "      <td>42375</td>\n",
       "      <td>Pink Cab</td>\n",
       "      <td>ATLANTA GA</td>\n",
       "      <td>28.62</td>\n",
       "      <td>358.52</td>\n",
       "      <td>334.854</td>\n",
       "      <td>Card</td>\n",
       "      <td>Male</td>\n",
       "      <td>27</td>\n",
       "      <td>9237</td>\n",
       "    </tr>\n",
       "    <tr>\n",
       "      <th>2</th>\n",
       "      <td>10000013</td>\n",
       "      <td>28712</td>\n",
       "      <td>42371</td>\n",
       "      <td>Pink Cab</td>\n",
       "      <td>ATLANTA GA</td>\n",
       "      <td>9.04</td>\n",
       "      <td>125.20</td>\n",
       "      <td>97.632</td>\n",
       "      <td>Cash</td>\n",
       "      <td>Male</td>\n",
       "      <td>53</td>\n",
       "      <td>11242</td>\n",
       "    </tr>\n",
       "  </tbody>\n",
       "</table>\n",
       "</div>"
      ],
      "text/plain": [
       "   Transaction ID  Customer ID  Date of Travel   Company        City  \\\n",
       "0        10000011        29290           42377  Pink Cab  ATLANTA GA   \n",
       "1        10000012        27703           42375  Pink Cab  ATLANTA GA   \n",
       "2        10000013        28712           42371  Pink Cab  ATLANTA GA   \n",
       "\n",
       "   KM Travelled  Price Charged  Cost of Trip Payment_Mode Gender  Age  \\\n",
       "0         30.45         370.95       313.635         Card   Male   28   \n",
       "1         28.62         358.52       334.854         Card   Male   27   \n",
       "2          9.04         125.20        97.632         Cash   Male   53   \n",
       "\n",
       "   Income (USD/Month)  \n",
       "0               10813  \n",
       "1                9237  \n",
       "2               11242  "
      ]
     },
     "execution_count": 10,
     "metadata": {},
     "output_type": "execute_result"
    }
   ],
   "source": [
    "# Join between cab_data and Transaction_ID\n",
    "\n",
    "left = cab_data.set_index(['Transaction ID'])\n",
    "right = transaction_ID.set_index(['Transaction ID'])\n",
    "\n",
    "data = left.join(right)\n",
    "\n",
    "# Join with customer ID\n",
    "\n",
    "left = data.set_index([data.index,'Customer ID'])\n",
    "right = customer_ID.set_index(['Customer ID'])\n",
    "data = left.join(right)\n",
    "\n",
    "data = data.reset_index()\n",
    "\n",
    "data.head(3)"
   ]
  },
  {
   "cell_type": "markdown",
   "metadata": {},
   "source": [
    "### Checking datatypes"
   ]
  },
  {
   "cell_type": "code",
   "execution_count": 11,
   "metadata": {},
   "outputs": [
    {
     "name": "stdout",
     "output_type": "stream",
     "text": [
      "<class 'pandas.core.frame.DataFrame'>\n",
      "RangeIndex: 359392 entries, 0 to 359391\n",
      "Data columns (total 12 columns):\n",
      " #   Column              Non-Null Count   Dtype  \n",
      "---  ------              --------------   -----  \n",
      " 0   Transaction ID      359392 non-null  int64  \n",
      " 1   Customer ID         359392 non-null  int64  \n",
      " 2   Date of Travel      359392 non-null  int64  \n",
      " 3   Company             359392 non-null  object \n",
      " 4   City                359392 non-null  object \n",
      " 5   KM Travelled        359392 non-null  float64\n",
      " 6   Price Charged       359392 non-null  float64\n",
      " 7   Cost of Trip        359392 non-null  float64\n",
      " 8   Payment_Mode        359392 non-null  object \n",
      " 9   Gender              359392 non-null  object \n",
      " 10  Age                 359392 non-null  int64  \n",
      " 11  Income (USD/Month)  359392 non-null  int64  \n",
      "dtypes: float64(3), int64(5), object(4)\n",
      "memory usage: 32.9+ MB\n",
      "--------------------------------------------------\n",
      "--------------------------------------------------\n",
      "<class 'pandas.core.frame.DataFrame'>\n",
      "RangeIndex: 20 entries, 0 to 19\n",
      "Data columns (total 3 columns):\n",
      " #   Column      Non-Null Count  Dtype \n",
      "---  ------      --------------  ----- \n",
      " 0   City        20 non-null     object\n",
      " 1   Population  20 non-null     int64 \n",
      " 2   Users       20 non-null     int64 \n",
      "dtypes: int64(2), object(1)\n",
      "memory usage: 608.0+ bytes\n"
     ]
    }
   ],
   "source": [
    "data.info()\n",
    "print('-'*50)\n",
    "print('-'*50)\n",
    "city.info()"
   ]
  },
  {
   "cell_type": "markdown",
   "metadata": {},
   "source": [
    "### Renaming columns"
   ]
  },
  {
   "cell_type": "code",
   "execution_count": 12,
   "metadata": {},
   "outputs": [
    {
     "data": {
      "text/html": [
       "<div>\n",
       "<style scoped>\n",
       "    .dataframe tbody tr th:only-of-type {\n",
       "        vertical-align: middle;\n",
       "    }\n",
       "\n",
       "    .dataframe tbody tr th {\n",
       "        vertical-align: top;\n",
       "    }\n",
       "\n",
       "    .dataframe thead th {\n",
       "        text-align: right;\n",
       "    }\n",
       "</style>\n",
       "<table border=\"1\" class=\"dataframe\">\n",
       "  <thead>\n",
       "    <tr style=\"text-align: right;\">\n",
       "      <th></th>\n",
       "      <th>Transaction_ID</th>\n",
       "      <th>Customer_ID</th>\n",
       "      <th>Date_of_Travel</th>\n",
       "      <th>Company</th>\n",
       "      <th>City</th>\n",
       "      <th>KM_Travelled</th>\n",
       "      <th>Price_Charged</th>\n",
       "      <th>Cost_of_Trip</th>\n",
       "      <th>Payment_Mode</th>\n",
       "      <th>Gender</th>\n",
       "      <th>Age</th>\n",
       "      <th>Income_Month</th>\n",
       "    </tr>\n",
       "  </thead>\n",
       "  <tbody>\n",
       "    <tr>\n",
       "      <th>0</th>\n",
       "      <td>10000011</td>\n",
       "      <td>29290</td>\n",
       "      <td>42377</td>\n",
       "      <td>Pink Cab</td>\n",
       "      <td>ATLANTA GA</td>\n",
       "      <td>30.45</td>\n",
       "      <td>370.95</td>\n",
       "      <td>313.635</td>\n",
       "      <td>Card</td>\n",
       "      <td>Male</td>\n",
       "      <td>28</td>\n",
       "      <td>10813</td>\n",
       "    </tr>\n",
       "    <tr>\n",
       "      <th>1</th>\n",
       "      <td>10000012</td>\n",
       "      <td>27703</td>\n",
       "      <td>42375</td>\n",
       "      <td>Pink Cab</td>\n",
       "      <td>ATLANTA GA</td>\n",
       "      <td>28.62</td>\n",
       "      <td>358.52</td>\n",
       "      <td>334.854</td>\n",
       "      <td>Card</td>\n",
       "      <td>Male</td>\n",
       "      <td>27</td>\n",
       "      <td>9237</td>\n",
       "    </tr>\n",
       "    <tr>\n",
       "      <th>2</th>\n",
       "      <td>10000013</td>\n",
       "      <td>28712</td>\n",
       "      <td>42371</td>\n",
       "      <td>Pink Cab</td>\n",
       "      <td>ATLANTA GA</td>\n",
       "      <td>9.04</td>\n",
       "      <td>125.20</td>\n",
       "      <td>97.632</td>\n",
       "      <td>Cash</td>\n",
       "      <td>Male</td>\n",
       "      <td>53</td>\n",
       "      <td>11242</td>\n",
       "    </tr>\n",
       "  </tbody>\n",
       "</table>\n",
       "</div>"
      ],
      "text/plain": [
       "   Transaction_ID  Customer_ID  Date_of_Travel   Company        City  \\\n",
       "0        10000011        29290           42377  Pink Cab  ATLANTA GA   \n",
       "1        10000012        27703           42375  Pink Cab  ATLANTA GA   \n",
       "2        10000013        28712           42371  Pink Cab  ATLANTA GA   \n",
       "\n",
       "   KM_Travelled  Price_Charged  Cost_of_Trip Payment_Mode Gender  Age  \\\n",
       "0         30.45         370.95       313.635         Card   Male   28   \n",
       "1         28.62         358.52       334.854         Card   Male   27   \n",
       "2          9.04         125.20        97.632         Cash   Male   53   \n",
       "\n",
       "   Income_Month  \n",
       "0         10813  \n",
       "1          9237  \n",
       "2         11242  "
      ]
     },
     "execution_count": 12,
     "metadata": {},
     "output_type": "execute_result"
    }
   ],
   "source": [
    "# inserting _ instead of ' ' in column names\n",
    "\n",
    "cols_ = [col for col in data.columns if ' ' in col]\n",
    "for col in cols_:\n",
    "      data = data.rename(columns={col:col.replace(' ','_')})\n",
    "\n",
    "# changing name of income column\n",
    "\n",
    "data.rename(columns={'Income_(USD/Month)': 'Income_Month'}, inplace=True)\n",
    "\n",
    "data.head(3)"
   ]
  },
  {
   "cell_type": "markdown",
   "metadata": {},
   "source": [
    "### Dealing with dates"
   ]
  },
  {
   "cell_type": "code",
   "execution_count": 13,
   "metadata": {},
   "outputs": [
    {
     "data": {
      "text/plain": [
       "numpy.datetime64('2016-01-08T00:00:00.000000')"
      ]
     },
     "execution_count": 13,
     "metadata": {},
     "output_type": "execute_result"
    }
   ],
   "source": [
    "# lets define a function that converts excel datos to numpy.datetime64\n",
    "\n",
    "import xlrd\n",
    "\n",
    "def to_date(xl_date):\n",
    "    # de fecha de excel a datetime.datetime (fecha de python)\n",
    "    datetime_py = xlrd.xldate_as_datetime(xl_date,0)\n",
    "    # de datetime.datetime to datetime64\n",
    "    dt64 = np.datetime64(datetime_py)\n",
    "    return dt64\n",
    "\n",
    "# lets test the function\n",
    "\n",
    "numero = 42377\n",
    "to_date(numero)"
   ]
  },
  {
   "cell_type": "code",
   "execution_count": 14,
   "metadata": {},
   "outputs": [
    {
     "data": {
      "text/html": [
       "<div>\n",
       "<style scoped>\n",
       "    .dataframe tbody tr th:only-of-type {\n",
       "        vertical-align: middle;\n",
       "    }\n",
       "\n",
       "    .dataframe tbody tr th {\n",
       "        vertical-align: top;\n",
       "    }\n",
       "\n",
       "    .dataframe thead th {\n",
       "        text-align: right;\n",
       "    }\n",
       "</style>\n",
       "<table border=\"1\" class=\"dataframe\">\n",
       "  <thead>\n",
       "    <tr style=\"text-align: right;\">\n",
       "      <th></th>\n",
       "      <th>Transaction_ID</th>\n",
       "      <th>Customer_ID</th>\n",
       "      <th>Date_of_Travel</th>\n",
       "      <th>Company</th>\n",
       "      <th>City</th>\n",
       "      <th>KM_Travelled</th>\n",
       "      <th>Price_Charged</th>\n",
       "      <th>Cost_of_Trip</th>\n",
       "      <th>Payment_Mode</th>\n",
       "      <th>Gender</th>\n",
       "      <th>Age</th>\n",
       "      <th>Income_Month</th>\n",
       "    </tr>\n",
       "  </thead>\n",
       "  <tbody>\n",
       "    <tr>\n",
       "      <th>0</th>\n",
       "      <td>10000011</td>\n",
       "      <td>29290</td>\n",
       "      <td>2016-01-08</td>\n",
       "      <td>Pink Cab</td>\n",
       "      <td>ATLANTA GA</td>\n",
       "      <td>30.45</td>\n",
       "      <td>370.95</td>\n",
       "      <td>313.635</td>\n",
       "      <td>Card</td>\n",
       "      <td>Male</td>\n",
       "      <td>28</td>\n",
       "      <td>10813</td>\n",
       "    </tr>\n",
       "    <tr>\n",
       "      <th>1</th>\n",
       "      <td>10000012</td>\n",
       "      <td>27703</td>\n",
       "      <td>2016-01-06</td>\n",
       "      <td>Pink Cab</td>\n",
       "      <td>ATLANTA GA</td>\n",
       "      <td>28.62</td>\n",
       "      <td>358.52</td>\n",
       "      <td>334.854</td>\n",
       "      <td>Card</td>\n",
       "      <td>Male</td>\n",
       "      <td>27</td>\n",
       "      <td>9237</td>\n",
       "    </tr>\n",
       "    <tr>\n",
       "      <th>2</th>\n",
       "      <td>10000013</td>\n",
       "      <td>28712</td>\n",
       "      <td>2016-01-02</td>\n",
       "      <td>Pink Cab</td>\n",
       "      <td>ATLANTA GA</td>\n",
       "      <td>9.04</td>\n",
       "      <td>125.20</td>\n",
       "      <td>97.632</td>\n",
       "      <td>Cash</td>\n",
       "      <td>Male</td>\n",
       "      <td>53</td>\n",
       "      <td>11242</td>\n",
       "    </tr>\n",
       "  </tbody>\n",
       "</table>\n",
       "</div>"
      ],
      "text/plain": [
       "   Transaction_ID  Customer_ID Date_of_Travel   Company        City  \\\n",
       "0        10000011        29290     2016-01-08  Pink Cab  ATLANTA GA   \n",
       "1        10000012        27703     2016-01-06  Pink Cab  ATLANTA GA   \n",
       "2        10000013        28712     2016-01-02  Pink Cab  ATLANTA GA   \n",
       "\n",
       "   KM_Travelled  Price_Charged  Cost_of_Trip Payment_Mode Gender  Age  \\\n",
       "0         30.45         370.95       313.635         Card   Male   28   \n",
       "1         28.62         358.52       334.854         Card   Male   27   \n",
       "2          9.04         125.20        97.632         Cash   Male   53   \n",
       "\n",
       "   Income_Month  \n",
       "0         10813  \n",
       "1          9237  \n",
       "2         11242  "
      ]
     },
     "execution_count": 14,
     "metadata": {},
     "output_type": "execute_result"
    }
   ],
   "source": [
    "# applying defined date function to Date of Travel column\n",
    "\n",
    "data['Date_of_Travel'] = data['Date_of_Travel'].apply(to_date)\n",
    "\n",
    "data.head(3)"
   ]
  },
  {
   "cell_type": "code",
   "execution_count": 15,
   "metadata": {},
   "outputs": [
    {
     "data": {
      "text/plain": [
       "0   2016-01-08\n",
       "1   2016-01-06\n",
       "2   2016-01-02\n",
       "Name: Date_of_Travel, dtype: datetime64[ns]"
      ]
     },
     "execution_count": 15,
     "metadata": {},
     "output_type": "execute_result"
    }
   ],
   "source": [
    "data['Date_of_Travel'].head(3)"
   ]
  },
  {
   "cell_type": "markdown",
   "metadata": {},
   "source": [
    "### Looking for duplicate rows"
   ]
  },
  {
   "cell_type": "code",
   "execution_count": 16,
   "metadata": {},
   "outputs": [
    {
     "data": {
      "text/plain": [
       "0         False\n",
       "1         False\n",
       "2         False\n",
       "3         False\n",
       "4         False\n",
       "          ...  \n",
       "359387    False\n",
       "359388    False\n",
       "359389    False\n",
       "359390    False\n",
       "359391    False\n",
       "Length: 359392, dtype: bool"
      ]
     },
     "execution_count": 16,
     "metadata": {},
     "output_type": "execute_result"
    }
   ],
   "source": [
    "data.duplicated()"
   ]
  },
  {
   "cell_type": "code",
   "execution_count": 17,
   "metadata": {},
   "outputs": [
    {
     "data": {
      "text/plain": [
       "0     False\n",
       "1     False\n",
       "2     False\n",
       "3     False\n",
       "4     False\n",
       "5     False\n",
       "6     False\n",
       "7     False\n",
       "8     False\n",
       "9     False\n",
       "10    False\n",
       "11    False\n",
       "12    False\n",
       "13    False\n",
       "14    False\n",
       "15    False\n",
       "16    False\n",
       "17    False\n",
       "18    False\n",
       "19    False\n",
       "dtype: bool"
      ]
     },
     "execution_count": 17,
     "metadata": {},
     "output_type": "execute_result"
    }
   ],
   "source": [
    "city.duplicated()"
   ]
  },
  {
   "cell_type": "markdown",
   "metadata": {},
   "source": [
    "### Checking price and cost"
   ]
  },
  {
   "cell_type": "code",
   "execution_count": 18,
   "metadata": {},
   "outputs": [
    {
     "data": {
      "text/plain": [
       "(15.6, 2048.03)"
      ]
     },
     "execution_count": 18,
     "metadata": {},
     "output_type": "execute_result"
    }
   ],
   "source": [
    "data['Price_Charged'].min(), data['Price_Charged'].max()"
   ]
  },
  {
   "cell_type": "code",
   "execution_count": 19,
   "metadata": {},
   "outputs": [
    {
     "data": {
      "text/plain": [
       "(19.0, 691.2)"
      ]
     },
     "execution_count": 19,
     "metadata": {},
     "output_type": "execute_result"
    }
   ],
   "source": [
    "data['Cost_of_Trip'].min(), data['Cost_of_Trip'].max()"
   ]
  },
  {
   "cell_type": "code",
   "execution_count": 20,
   "metadata": {},
   "outputs": [
    {
     "data": {
      "text/plain": [
       "(1.9, 48.0)"
      ]
     },
     "execution_count": 20,
     "metadata": {},
     "output_type": "execute_result"
    }
   ],
   "source": [
    "data['KM_Travelled'].min(), data['KM_Travelled'].max()"
   ]
  },
  {
   "cell_type": "code",
   "execution_count": 21,
   "metadata": {},
   "outputs": [],
   "source": [
    "# Is there some observation where cost is higher than price?"
   ]
  },
  {
   "cell_type": "code",
   "execution_count": 22,
   "metadata": {},
   "outputs": [
    {
     "data": {
      "text/plain": [
       "0    False\n",
       "1    False\n",
       "2    False\n",
       "dtype: bool"
      ]
     },
     "execution_count": 22,
     "metadata": {},
     "output_type": "execute_result"
    }
   ],
   "source": [
    "cost_higher_than_price = data['Cost_of_Trip'] > data['Price_Charged']\n",
    "cost_higher_than_price.head(3)"
   ]
  },
  {
   "cell_type": "code",
   "execution_count": 23,
   "metadata": {},
   "outputs": [
    {
     "data": {
      "text/plain": [
       "pandas.core.series.Series"
      ]
     },
     "execution_count": 23,
     "metadata": {},
     "output_type": "execute_result"
    }
   ],
   "source": [
    "type(cost_higher_than_price)"
   ]
  },
  {
   "cell_type": "code",
   "execution_count": 24,
   "metadata": {},
   "outputs": [
    {
     "data": {
      "text/plain": [
       "24819"
      ]
     },
     "execution_count": 24,
     "metadata": {},
     "output_type": "execute_result"
    }
   ],
   "source": [
    "# Number of trips where cost y higher than price\n",
    "cost_higher_than_price.sum()"
   ]
  },
  {
   "cell_type": "code",
   "execution_count": 25,
   "metadata": {},
   "outputs": [
    {
     "data": {
      "text/plain": [
       "0.06905829845962069"
      ]
     },
     "execution_count": 25,
     "metadata": {},
     "output_type": "execute_result"
    }
   ],
   "source": [
    "# Percentage of trips where cost y higher than price\n",
    "cost_higher_than_price.mean()"
   ]
  },
  {
   "cell_type": "code",
   "execution_count": 26,
   "metadata": {},
   "outputs": [],
   "source": [
    "# Percentage of trips where cost is higher than price by company"
   ]
  },
  {
   "cell_type": "code",
   "execution_count": 27,
   "metadata": {},
   "outputs": [
    {
     "data": {
      "text/html": [
       "<div>\n",
       "<style scoped>\n",
       "    .dataframe tbody tr th:only-of-type {\n",
       "        vertical-align: middle;\n",
       "    }\n",
       "\n",
       "    .dataframe tbody tr th {\n",
       "        vertical-align: top;\n",
       "    }\n",
       "\n",
       "    .dataframe thead th {\n",
       "        text-align: right;\n",
       "    }\n",
       "</style>\n",
       "<table border=\"1\" class=\"dataframe\">\n",
       "  <thead>\n",
       "    <tr style=\"text-align: right;\">\n",
       "      <th></th>\n",
       "      <th>Transaction_ID</th>\n",
       "      <th>Customer_ID</th>\n",
       "      <th>Date_of_Travel</th>\n",
       "      <th>Company</th>\n",
       "      <th>City</th>\n",
       "      <th>KM_Travelled</th>\n",
       "      <th>Price_Charged</th>\n",
       "      <th>Cost_of_Trip</th>\n",
       "      <th>Payment_Mode</th>\n",
       "      <th>Gender</th>\n",
       "      <th>Age</th>\n",
       "      <th>Income_Month</th>\n",
       "      <th>cost_higher_than_price</th>\n",
       "    </tr>\n",
       "  </thead>\n",
       "  <tbody>\n",
       "    <tr>\n",
       "      <th>0</th>\n",
       "      <td>10000011</td>\n",
       "      <td>29290</td>\n",
       "      <td>2016-01-08</td>\n",
       "      <td>Pink Cab</td>\n",
       "      <td>ATLANTA GA</td>\n",
       "      <td>30.45</td>\n",
       "      <td>370.95</td>\n",
       "      <td>313.635</td>\n",
       "      <td>Card</td>\n",
       "      <td>Male</td>\n",
       "      <td>28</td>\n",
       "      <td>10813</td>\n",
       "      <td>False</td>\n",
       "    </tr>\n",
       "    <tr>\n",
       "      <th>1</th>\n",
       "      <td>10000012</td>\n",
       "      <td>27703</td>\n",
       "      <td>2016-01-06</td>\n",
       "      <td>Pink Cab</td>\n",
       "      <td>ATLANTA GA</td>\n",
       "      <td>28.62</td>\n",
       "      <td>358.52</td>\n",
       "      <td>334.854</td>\n",
       "      <td>Card</td>\n",
       "      <td>Male</td>\n",
       "      <td>27</td>\n",
       "      <td>9237</td>\n",
       "      <td>False</td>\n",
       "    </tr>\n",
       "    <tr>\n",
       "      <th>2</th>\n",
       "      <td>10000013</td>\n",
       "      <td>28712</td>\n",
       "      <td>2016-01-02</td>\n",
       "      <td>Pink Cab</td>\n",
       "      <td>ATLANTA GA</td>\n",
       "      <td>9.04</td>\n",
       "      <td>125.20</td>\n",
       "      <td>97.632</td>\n",
       "      <td>Cash</td>\n",
       "      <td>Male</td>\n",
       "      <td>53</td>\n",
       "      <td>11242</td>\n",
       "      <td>False</td>\n",
       "    </tr>\n",
       "  </tbody>\n",
       "</table>\n",
       "</div>"
      ],
      "text/plain": [
       "   Transaction_ID  Customer_ID Date_of_Travel   Company        City  \\\n",
       "0        10000011        29290     2016-01-08  Pink Cab  ATLANTA GA   \n",
       "1        10000012        27703     2016-01-06  Pink Cab  ATLANTA GA   \n",
       "2        10000013        28712     2016-01-02  Pink Cab  ATLANTA GA   \n",
       "\n",
       "   KM_Travelled  Price_Charged  Cost_of_Trip Payment_Mode Gender  Age  \\\n",
       "0         30.45         370.95       313.635         Card   Male   28   \n",
       "1         28.62         358.52       334.854         Card   Male   27   \n",
       "2          9.04         125.20        97.632         Cash   Male   53   \n",
       "\n",
       "   Income_Month  cost_higher_than_price  \n",
       "0         10813                   False  \n",
       "1          9237                   False  \n",
       "2         11242                   False  "
      ]
     },
     "execution_count": 27,
     "metadata": {},
     "output_type": "execute_result"
    }
   ],
   "source": [
    "data['cost_higher_than_price'] = data['Cost_of_Trip'] > data['Price_Charged']\n",
    "data.head(3)"
   ]
  },
  {
   "cell_type": "code",
   "execution_count": 28,
   "metadata": {},
   "outputs": [
    {
     "data": {
      "text/plain": [
       "Company\n",
       "Pink Cab      11129\n",
       "Yellow Cab    13690\n",
       "Name: cost_higher_than_price, dtype: int64"
      ]
     },
     "execution_count": 28,
     "metadata": {},
     "output_type": "execute_result"
    }
   ],
   "source": [
    "data.groupby('Company')['cost_higher_than_price'].sum()"
   ]
  },
  {
   "cell_type": "code",
   "execution_count": 29,
   "metadata": {},
   "outputs": [
    {
     "data": {
      "text/plain": [
       "Company\n",
       "Pink Cab      0.131376\n",
       "Yellow Cab    0.049840\n",
       "Name: cost_higher_than_price, dtype: float64"
      ]
     },
     "execution_count": 29,
     "metadata": {},
     "output_type": "execute_result"
    }
   ],
   "source": [
    "data.groupby('Company')['cost_higher_than_price'].mean()"
   ]
  },
  {
   "cell_type": "markdown",
   "metadata": {},
   "source": [
    "### Trips where cost is higher than price by company"
   ]
  },
  {
   "cell_type": "code",
   "execution_count": 30,
   "metadata": {},
   "outputs": [
    {
     "name": "stdout",
     "output_type": "stream",
     "text": [
      "  Company   |   Count    | Percentage \n",
      "--------------------------------------\n",
      "Pink Cab    |   11,129   |      13.14%\n",
      "Yellow Cab  |   13,690   |       4.98%\n"
     ]
    }
   ],
   "source": [
    "c1 = data.groupby('Company')['cost_higher_than_price'].sum().index[0]\n",
    "c2 = data.groupby('Company')['cost_higher_than_price'].sum().index[1]\n",
    "ct1 = data.groupby('Company')['cost_higher_than_price'].sum()[0]\n",
    "ct2 = data.groupby('Company')['cost_higher_than_price'].sum()[1]\n",
    "p1 = data.groupby('Company')['cost_higher_than_price'].mean()[0]\n",
    "p2 = data.groupby('Company')['cost_higher_than_price'].mean()[1]\n",
    "\n",
    "print(f'{\"Company\":^12}|{\"Count\":^12}|{\"Percentage\":^12}')\n",
    "print('-' * 38)\n",
    "print(f'{c1:<12}|{ct1:^12,}|{p1:>12,.2%}')\n",
    "print(f'{c2:<12}|{ct2:^12,}|{p2:>12,.2%}')"
   ]
  },
  {
   "cell_type": "markdown",
   "metadata": {},
   "source": [
    "### Calculating profit per km as (price - cost)/km and profit as price - cost"
   ]
  },
  {
   "cell_type": "code",
   "execution_count": 31,
   "metadata": {},
   "outputs": [
    {
     "data": {
      "text/html": [
       "<div>\n",
       "<style scoped>\n",
       "    .dataframe tbody tr th:only-of-type {\n",
       "        vertical-align: middle;\n",
       "    }\n",
       "\n",
       "    .dataframe tbody tr th {\n",
       "        vertical-align: top;\n",
       "    }\n",
       "\n",
       "    .dataframe thead th {\n",
       "        text-align: right;\n",
       "    }\n",
       "</style>\n",
       "<table border=\"1\" class=\"dataframe\">\n",
       "  <thead>\n",
       "    <tr style=\"text-align: right;\">\n",
       "      <th></th>\n",
       "      <th>Transaction_ID</th>\n",
       "      <th>Customer_ID</th>\n",
       "      <th>Date_of_Travel</th>\n",
       "      <th>Company</th>\n",
       "      <th>City</th>\n",
       "      <th>KM_Travelled</th>\n",
       "      <th>Price_Charged</th>\n",
       "      <th>Cost_of_Trip</th>\n",
       "      <th>Payment_Mode</th>\n",
       "      <th>Gender</th>\n",
       "      <th>Age</th>\n",
       "      <th>Income_Month</th>\n",
       "      <th>cost_higher_than_price</th>\n",
       "      <th>profit</th>\n",
       "      <th>profit_pkm</th>\n",
       "    </tr>\n",
       "  </thead>\n",
       "  <tbody>\n",
       "    <tr>\n",
       "      <th>0</th>\n",
       "      <td>10000011</td>\n",
       "      <td>29290</td>\n",
       "      <td>2016-01-08</td>\n",
       "      <td>Pink Cab</td>\n",
       "      <td>ATLANTA GA</td>\n",
       "      <td>30.45</td>\n",
       "      <td>370.95</td>\n",
       "      <td>313.635</td>\n",
       "      <td>Card</td>\n",
       "      <td>Male</td>\n",
       "      <td>28</td>\n",
       "      <td>10813</td>\n",
       "      <td>False</td>\n",
       "      <td>57.315</td>\n",
       "      <td>1.882266</td>\n",
       "    </tr>\n",
       "    <tr>\n",
       "      <th>1</th>\n",
       "      <td>10000012</td>\n",
       "      <td>27703</td>\n",
       "      <td>2016-01-06</td>\n",
       "      <td>Pink Cab</td>\n",
       "      <td>ATLANTA GA</td>\n",
       "      <td>28.62</td>\n",
       "      <td>358.52</td>\n",
       "      <td>334.854</td>\n",
       "      <td>Card</td>\n",
       "      <td>Male</td>\n",
       "      <td>27</td>\n",
       "      <td>9237</td>\n",
       "      <td>False</td>\n",
       "      <td>23.666</td>\n",
       "      <td>0.826904</td>\n",
       "    </tr>\n",
       "    <tr>\n",
       "      <th>2</th>\n",
       "      <td>10000013</td>\n",
       "      <td>28712</td>\n",
       "      <td>2016-01-02</td>\n",
       "      <td>Pink Cab</td>\n",
       "      <td>ATLANTA GA</td>\n",
       "      <td>9.04</td>\n",
       "      <td>125.20</td>\n",
       "      <td>97.632</td>\n",
       "      <td>Cash</td>\n",
       "      <td>Male</td>\n",
       "      <td>53</td>\n",
       "      <td>11242</td>\n",
       "      <td>False</td>\n",
       "      <td>27.568</td>\n",
       "      <td>3.049558</td>\n",
       "    </tr>\n",
       "  </tbody>\n",
       "</table>\n",
       "</div>"
      ],
      "text/plain": [
       "   Transaction_ID  Customer_ID Date_of_Travel   Company        City  \\\n",
       "0        10000011        29290     2016-01-08  Pink Cab  ATLANTA GA   \n",
       "1        10000012        27703     2016-01-06  Pink Cab  ATLANTA GA   \n",
       "2        10000013        28712     2016-01-02  Pink Cab  ATLANTA GA   \n",
       "\n",
       "   KM_Travelled  Price_Charged  Cost_of_Trip Payment_Mode Gender  Age  \\\n",
       "0         30.45         370.95       313.635         Card   Male   28   \n",
       "1         28.62         358.52       334.854         Card   Male   27   \n",
       "2          9.04         125.20        97.632         Cash   Male   53   \n",
       "\n",
       "   Income_Month  cost_higher_than_price  profit  profit_pkm  \n",
       "0         10813                   False  57.315    1.882266  \n",
       "1          9237                   False  23.666    0.826904  \n",
       "2         11242                   False  27.568    3.049558  "
      ]
     },
     "execution_count": 31,
     "metadata": {},
     "output_type": "execute_result"
    }
   ],
   "source": [
    "data['profit'] = data['Price_Charged'] - data ['Cost_of_Trip']\n",
    "data['profit_pkm'] = (data['Price_Charged'] - data ['Cost_of_Trip'])/data['KM_Travelled']\n",
    "data.head(3)"
   ]
  },
  {
   "cell_type": "markdown",
   "metadata": {},
   "source": [
    "## Univariate analysis"
   ]
  },
  {
   "cell_type": "code",
   "execution_count": 32,
   "metadata": {},
   "outputs": [
    {
     "name": "stdout",
     "output_type": "stream",
     "text": [
      "<class 'pandas.core.frame.DataFrame'>\n",
      "RangeIndex: 359392 entries, 0 to 359391\n",
      "Data columns (total 15 columns):\n",
      " #   Column                  Non-Null Count   Dtype         \n",
      "---  ------                  --------------   -----         \n",
      " 0   Transaction_ID          359392 non-null  int64         \n",
      " 1   Customer_ID             359392 non-null  int64         \n",
      " 2   Date_of_Travel          359392 non-null  datetime64[ns]\n",
      " 3   Company                 359392 non-null  object        \n",
      " 4   City                    359392 non-null  object        \n",
      " 5   KM_Travelled            359392 non-null  float64       \n",
      " 6   Price_Charged           359392 non-null  float64       \n",
      " 7   Cost_of_Trip            359392 non-null  float64       \n",
      " 8   Payment_Mode            359392 non-null  object        \n",
      " 9   Gender                  359392 non-null  object        \n",
      " 10  Age                     359392 non-null  int64         \n",
      " 11  Income_Month            359392 non-null  int64         \n",
      " 12  cost_higher_than_price  359392 non-null  bool          \n",
      " 13  profit                  359392 non-null  float64       \n",
      " 14  profit_pkm              359392 non-null  float64       \n",
      "dtypes: bool(1), datetime64[ns](1), float64(5), int64(4), object(4)\n",
      "memory usage: 38.7+ MB\n",
      "<class 'pandas.core.frame.DataFrame'>\n",
      "RangeIndex: 20 entries, 0 to 19\n",
      "Data columns (total 3 columns):\n",
      " #   Column      Non-Null Count  Dtype \n",
      "---  ------      --------------  ----- \n",
      " 0   City        20 non-null     object\n",
      " 1   Population  20 non-null     int64 \n",
      " 2   Users       20 non-null     int64 \n",
      "dtypes: int64(2), object(1)\n",
      "memory usage: 608.0+ bytes\n"
     ]
    },
    {
     "data": {
      "text/plain": [
       "(None, None)"
      ]
     },
     "execution_count": 32,
     "metadata": {},
     "output_type": "execute_result"
    }
   ],
   "source": [
    "data.info() , city.info()"
   ]
  },
  {
   "cell_type": "markdown",
   "metadata": {},
   "source": [
    "### Transaction_ID "
   ]
  },
  {
   "cell_type": "code",
   "execution_count": 33,
   "metadata": {},
   "outputs": [
    {
     "data": {
      "text/plain": [
       "0    10000011\n",
       "1    10000012\n",
       "2    10000013\n",
       "3    10000014\n",
       "4    10000015\n",
       "Name: Transaction_ID, dtype: int64"
      ]
     },
     "execution_count": 33,
     "metadata": {},
     "output_type": "execute_result"
    }
   ],
   "source": [
    "data['Transaction_ID'].head()"
   ]
  },
  {
   "cell_type": "code",
   "execution_count": 34,
   "metadata": {},
   "outputs": [
    {
     "data": {
      "text/plain": [
       "(10000011, 10440107)"
      ]
     },
     "execution_count": 34,
     "metadata": {},
     "output_type": "execute_result"
    }
   ],
   "source": [
    "data['Transaction_ID'].min() , data['Transaction_ID'].max()"
   ]
  },
  {
   "cell_type": "code",
   "execution_count": 35,
   "metadata": {},
   "outputs": [
    {
     "data": {
      "text/plain": [
       "359392"
      ]
     },
     "execution_count": 35,
     "metadata": {},
     "output_type": "execute_result"
    }
   ],
   "source": [
    "# How many transactions?\n",
    "\n",
    "data['Transaction_ID'].count()"
   ]
  },
  {
   "cell_type": "code",
   "execution_count": 36,
   "metadata": {},
   "outputs": [
    {
     "data": {
      "text/plain": [
       "359392"
      ]
     },
     "execution_count": 36,
     "metadata": {},
     "output_type": "execute_result"
    }
   ],
   "source": [
    "# Are all the transaction IDs unique?\n",
    "\n",
    "data['Transaction_ID'].nunique()"
   ]
  },
  {
   "cell_type": "markdown",
   "metadata": {},
   "source": [
    "### Customer_ID"
   ]
  },
  {
   "cell_type": "code",
   "execution_count": 37,
   "metadata": {},
   "outputs": [
    {
     "data": {
      "text/plain": [
       "0    29290\n",
       "1    27703\n",
       "2    28712\n",
       "3    28020\n",
       "4    27182\n",
       "Name: Customer_ID, dtype: int64"
      ]
     },
     "execution_count": 37,
     "metadata": {},
     "output_type": "execute_result"
    }
   ],
   "source": [
    "data['Customer_ID'].head()"
   ]
  },
  {
   "cell_type": "code",
   "execution_count": 38,
   "metadata": {},
   "outputs": [
    {
     "data": {
      "text/plain": [
       "(1, 60000)"
      ]
     },
     "execution_count": 38,
     "metadata": {},
     "output_type": "execute_result"
    }
   ],
   "source": [
    "data['Customer_ID'].min(), data['Customer_ID'].max()"
   ]
  },
  {
   "cell_type": "code",
   "execution_count": 39,
   "metadata": {},
   "outputs": [],
   "source": [
    "# How many Customers?"
   ]
  },
  {
   "cell_type": "code",
   "execution_count": 40,
   "metadata": {},
   "outputs": [
    {
     "data": {
      "text/plain": [
       "359392"
      ]
     },
     "execution_count": 40,
     "metadata": {},
     "output_type": "execute_result"
    }
   ],
   "source": [
    "data['Customer_ID'].count()"
   ]
  },
  {
   "cell_type": "code",
   "execution_count": 41,
   "metadata": {},
   "outputs": [],
   "source": [
    "# Are all the customer IDs unique?"
   ]
  },
  {
   "cell_type": "code",
   "execution_count": 42,
   "metadata": {},
   "outputs": [
    {
     "data": {
      "text/plain": [
       "46148"
      ]
     },
     "execution_count": 42,
     "metadata": {},
     "output_type": "execute_result"
    }
   ],
   "source": [
    "data['Customer_ID'].nunique()"
   ]
  },
  {
   "cell_type": "code",
   "execution_count": 43,
   "metadata": {},
   "outputs": [],
   "source": [
    "# Lets see the distribution of transactions per customer"
   ]
  },
  {
   "cell_type": "code",
   "execution_count": 44,
   "metadata": {},
   "outputs": [
    {
     "data": {
      "text/plain": [
       "(count    46148.000000\n",
       " mean         7.787813\n",
       " std          9.208328\n",
       " min          1.000000\n",
       " 25%          2.000000\n",
       " 50%          3.000000\n",
       " 75%         12.000000\n",
       " max         54.000000\n",
       " Name: Transaction_ID, dtype: float64,\n",
       " <AxesSubplot:>)"
      ]
     },
     "execution_count": 44,
     "metadata": {},
     "output_type": "execute_result"
    },
    {
     "data": {
      "image/png": "[encoded data removed]",
      "text/plain": [
       "<Figure size 432x288 with 1 Axes>"
      ]
     },
     "metadata": {
      "needs_background": "light"
     },
     "output_type": "display_data"
    }
   ],
   "source": [
    "data.groupby('Customer_ID')['Transaction_ID'].agg('count').describe(), data.groupby('Customer_ID')['Transaction_ID'].agg('count').hist(bins=20)"
   ]
  },
  {
   "cell_type": "markdown",
   "metadata": {},
   "source": [
    "### Date_of_Travel "
   ]
  },
  {
   "cell_type": "code",
   "execution_count": 45,
   "metadata": {},
   "outputs": [
    {
     "data": {
      "text/plain": [
       "count                           359392\n",
       "mean     2017-08-17 01:37:55.042460416\n",
       "min                2016-01-02 00:00:00\n",
       "25%                2016-11-23 00:00:00\n",
       "50%                2017-09-10 00:00:00\n",
       "75%                2018-05-12 00:00:00\n",
       "max                2018-12-31 00:00:00\n",
       "Name: Date_of_Travel, dtype: object"
      ]
     },
     "execution_count": 45,
     "metadata": {},
     "output_type": "execute_result"
    }
   ],
   "source": [
    "data['Date_of_Travel'].describe(datetime_is_numeric=True)"
   ]
  },
  {
   "cell_type": "code",
   "execution_count": 46,
   "metadata": {},
   "outputs": [
    {
     "data": {
      "text/plain": [
       "(Friday       81402\n",
       " Saturday     78234\n",
       " Sunday       70310\n",
       " Thursday     39747\n",
       " Wednesday    30102\n",
       " Tuesday      29860\n",
       " Monday       29737\n",
       " Name: Date_of_Travel, dtype: int64,\n",
       " <AxesSubplot:>)"
      ]
     },
     "execution_count": 46,
     "metadata": {},
     "output_type": "execute_result"
    },
    {
     "data": {
      "image/png": "[encoded data removed]",
      "text/plain": [
       "<Figure size 432x288 with 1 Axes>"
      ]
     },
     "metadata": {
      "needs_background": "light"
     },
     "output_type": "display_data"
    }
   ],
   "source": [
    "# Distribution of Transaction by day\n",
    "\n",
    "data['Date_of_Travel'].dt.day_name().value_counts() ,data['Date_of_Travel'].dt.day_name().value_counts().plot(kind='bar')"
   ]
  },
  {
   "cell_type": "markdown",
   "metadata": {},
   "source": [
    "### Company"
   ]
  },
  {
   "cell_type": "code",
   "execution_count": 47,
   "metadata": {},
   "outputs": [
    {
     "data": {
      "text/plain": [
       "count         359392\n",
       "unique             2\n",
       "top       Yellow Cab\n",
       "freq          274681\n",
       "Name: Company, dtype: object"
      ]
     },
     "execution_count": 47,
     "metadata": {},
     "output_type": "execute_result"
    }
   ],
   "source": [
    "data['Company'].describe()"
   ]
  },
  {
   "cell_type": "markdown",
   "metadata": {},
   "source": [
    "### Payment_Mode"
   ]
  },
  {
   "cell_type": "code",
   "execution_count": 48,
   "metadata": {},
   "outputs": [
    {
     "data": {
      "text/plain": [
       "(Payment_Mode\n",
       " Card    215504\n",
       " Cash    143888\n",
       " Name: Payment_Mode, dtype: int64,\n",
       " <AxesSubplot:xlabel='Payment_Mode'>)"
      ]
     },
     "execution_count": 48,
     "metadata": {},
     "output_type": "execute_result"
    },
    {
     "data": {
      "image/png": "[encoded data removed]",
      "text/plain": [
       "<Figure size 432x288 with 1 Axes>"
      ]
     },
     "metadata": {
      "needs_background": "light"
     },
     "output_type": "display_data"
    }
   ],
   "source": [
    "data.groupby('Payment_Mode')['Payment_Mode'].count(),data.groupby('Payment_Mode')['Payment_Mode'].count().plot(kind='bar')"
   ]
  },
  {
   "cell_type": "markdown",
   "metadata": {},
   "source": [
    "### Gender"
   ]
  },
  {
   "cell_type": "code",
   "execution_count": 49,
   "metadata": {},
   "outputs": [
    {
     "data": {
      "text/plain": [
       "(Gender\n",
       " Female    153480\n",
       " Male      205912\n",
       " Name: Gender, dtype: int64,\n",
       " <AxesSubplot:xlabel='Gender'>)"
      ]
     },
     "execution_count": 49,
     "metadata": {},
     "output_type": "execute_result"
    },
    {
     "data": {
      "image/png": "[encoded data removed]",
      "text/plain": [
       "<Figure size 432x288 with 1 Axes>"
      ]
     },
     "metadata": {
      "needs_background": "light"
     },
     "output_type": "display_data"
    }
   ],
   "source": [
    "data.groupby('Gender')['Gender'].count(), data.groupby('Gender')['Gender'].count().plot(kind='bar')"
   ]
  },
  {
   "cell_type": "markdown",
   "metadata": {},
   "source": [
    "### Age"
   ]
  },
  {
   "cell_type": "code",
   "execution_count": 50,
   "metadata": {},
   "outputs": [
    {
     "data": {
      "text/plain": [
       "count    359392.000000\n",
       "mean         35.336705\n",
       "std          12.594234\n",
       "min          18.000000\n",
       "25%          25.000000\n",
       "50%          33.000000\n",
       "75%          42.000000\n",
       "max          65.000000\n",
       "Name: Age, dtype: float64"
      ]
     },
     "execution_count": 50,
     "metadata": {},
     "output_type": "execute_result"
    }
   ],
   "source": [
    "data['Age'].describe()"
   ]
  },
  {
   "cell_type": "code",
   "execution_count": 51,
   "metadata": {},
   "outputs": [
    {
     "data": {
      "text/plain": [
       "<AxesSubplot:>"
      ]
     },
     "execution_count": 51,
     "metadata": {},
     "output_type": "execute_result"
    },
    {
     "data": {
      "image/png": "[encoded data removed]",
      "text/plain": [
       "<Figure size 1152x288 with 2 Axes>"
      ]
     },
     "metadata": {
      "needs_background": "light"
     },
     "output_type": "display_data"
    }
   ],
   "source": [
    "fig, (ax1, ax2) = plt.subplots(1, 2, figsize=(16,4))\n",
    "fig.suptitle('Age Distribution', size=20 , y=1.02)\n",
    "data['Age'].plot.box(ax=ax1)\n",
    "data['Age'].hist(ax=ax2, bins=15)"
   ]
  },
  {
   "cell_type": "markdown",
   "metadata": {},
   "source": [
    "### Income_Month"
   ]
  },
  {
   "cell_type": "code",
   "execution_count": 52,
   "metadata": {},
   "outputs": [
    {
     "data": {
      "text/plain": [
       "count    359392.000000\n",
       "mean      15048.822937\n",
       "std        7969.409482\n",
       "min        2000.000000\n",
       "25%        8424.000000\n",
       "50%       14685.000000\n",
       "75%       21035.000000\n",
       "max       35000.000000\n",
       "Name: Income_Month, dtype: float64"
      ]
     },
     "execution_count": 52,
     "metadata": {},
     "output_type": "execute_result"
    }
   ],
   "source": [
    "data['Income_Month'].describe()"
   ]
  },
  {
   "cell_type": "code",
   "execution_count": 53,
   "metadata": {},
   "outputs": [
    {
     "data": {
      "text/plain": [
       "<AxesSubplot:>"
      ]
     },
     "execution_count": 53,
     "metadata": {},
     "output_type": "execute_result"
    },
    {
     "data": {
      "image/png": "[encoded data removed]",
      "text/plain": [
       "<Figure size 1152x288 with 2 Axes>"
      ]
     },
     "metadata": {
      "needs_background": "light"
     },
     "output_type": "display_data"
    }
   ],
   "source": [
    "fig, (ax1, ax2) = plt.subplots(1, 2, figsize=(16,4))\n",
    "fig.suptitle('Income Distribution', size=20 , y=1.02)\n",
    "data['Income_Month'].plot.box(ax=ax1)\n",
    "data['Income_Month'].hist(ax=ax2, bins=15)"
   ]
  },
  {
   "cell_type": "markdown",
   "metadata": {},
   "source": [
    "### profit_pkm"
   ]
  },
  {
   "cell_type": "code",
   "execution_count": 54,
   "metadata": {},
   "outputs": [
    {
     "data": {
      "text/plain": [
       "count    359392.000000\n",
       "mean          6.083579\n",
       "std           5.543493\n",
       "min          -4.998235\n",
       "25%           2.000385\n",
       "50%           4.466809\n",
       "75%           9.170006\n",
       "max          41.115556\n",
       "Name: profit_pkm, dtype: float64"
      ]
     },
     "execution_count": 54,
     "metadata": {},
     "output_type": "execute_result"
    }
   ],
   "source": [
    "data['profit_pkm'].describe()"
   ]
  },
  {
   "cell_type": "code",
   "execution_count": 55,
   "metadata": {},
   "outputs": [
    {
     "data": {
      "text/plain": [
       "<AxesSubplot:>"
      ]
     },
     "execution_count": 55,
     "metadata": {},
     "output_type": "execute_result"
    },
    {
     "data": {
      "image/png": "[encoded data removed]",
      "text/plain": [
       "<Figure size 1152x288 with 2 Axes>"
      ]
     },
     "metadata": {
      "needs_background": "light"
     },
     "output_type": "display_data"
    }
   ],
   "source": [
    "fig, (ax1, ax2) = plt.subplots(1, 2, figsize=(16,4))\n",
    "fig.suptitle('Profit per km Distribution', size=20 , y=1.02)\n",
    "data['profit_pkm'].plot.box(ax=ax1)\n",
    "data['profit_pkm'].hist(ax=ax2)"
   ]
  },
  {
   "cell_type": "markdown",
   "metadata": {},
   "source": [
    "## Multivariate analysis"
   ]
  },
  {
   "cell_type": "markdown",
   "metadata": {},
   "source": [
    "### Transactions\n",
    "\n",
    "1. Count of transactions by company\n",
    "2. Count of transactions by company and year\n",
    "3. Count of transaction by company and month\n",
    "4. Count of transactions by company and day"
   ]
  },
  {
   "cell_type": "code",
   "execution_count": 56,
   "metadata": {},
   "outputs": [
    {
     "data": {
      "text/plain": [
       "Company\n",
       "Pink Cab       84711\n",
       "Yellow Cab    274681\n",
       "Name: Transaction_ID, dtype: int64"
      ]
     },
     "execution_count": 56,
     "metadata": {},
     "output_type": "execute_result"
    }
   ],
   "source": [
    "data.groupby('Company')['Transaction_ID'].count()"
   ]
  },
  {
   "cell_type": "code",
   "execution_count": 90,
   "metadata": {},
   "outputs": [
    {
     "data": {
      "text/plain": [
       "Company\n",
       "Pink Cab       84711\n",
       "Yellow Cab    274681\n",
       "Name: Transaction_ID, dtype: int64"
      ]
     },
     "execution_count": 90,
     "metadata": {},
     "output_type": "execute_result"
    }
   ],
   "source": [
    "tran_company = data.groupby('Company')['Transaction_ID'].count()\n",
    "tran_company"
   ]
  },
  {
   "cell_type": "code",
   "execution_count": 58,
   "metadata": {},
   "outputs": [
    {
     "data": {
      "image/png": "[encoded data removed]",
      "text/plain": [
       "<Figure size 504x360 with 1 Axes>"
      ]
     },
     "metadata": {
      "needs_background": "light"
     },
     "output_type": "display_data"
    }
   ],
   "source": [
    "fig, ax = plt.subplots(1, 1, figsize=(16,4))\n",
    "fig.suptitle('Transactions by Company', size=20, y=1.02)\n",
    "color1 = ['hotpink','gold']\n",
    "tran_companyplot =tran_company.plot.bar(color=color1, ax=ax, figsize=(7,5), width=0.5)\n",
    "ax.set_xticklabels(ax.get_xticklabels(), rotation=0)\n",
    "ax.spines['top'].set_visible(False)\n",
    "ax.spines['left'].set_alpha(0.3)\n",
    "ax.spines['right'].set_visible(False)\n",
    "ax.spines['bottom'].set_alpha(0.3)\n",
    "ax.set_ylabel('Number of Transactions')\n",
    "##ax.patches[0].set_alpha(0.5) ; it is included in the loop\n",
    "##ax.patches[1].set_alpha(0.5)\n",
    "for p in ax.patches:\n",
    "    ax.annotate(text = str(f'{p.get_height():,}'), xy =(p.get_x()+(p.get_width()*0.333), p.get_height()+ 1e4))\n",
    "    p.set_alpha(0.6)"
   ]
  },
  {
   "cell_type": "code",
   "execution_count": 59,
   "metadata": {},
   "outputs": [
    {
     "data": {
      "text/html": [
       "<div>\n",
       "<style scoped>\n",
       "    .dataframe tbody tr th:only-of-type {\n",
       "        vertical-align: middle;\n",
       "    }\n",
       "\n",
       "    .dataframe tbody tr th {\n",
       "        vertical-align: top;\n",
       "    }\n",
       "\n",
       "    .dataframe thead th {\n",
       "        text-align: right;\n",
       "    }\n",
       "</style>\n",
       "<table border=\"1\" class=\"dataframe\">\n",
       "  <thead>\n",
       "    <tr style=\"text-align: right;\">\n",
       "      <th></th>\n",
       "      <th>Transaction_ID</th>\n",
       "      <th>Customer_ID</th>\n",
       "      <th>Company</th>\n",
       "      <th>City</th>\n",
       "      <th>KM_Travelled</th>\n",
       "      <th>Price_Charged</th>\n",
       "      <th>Cost_of_Trip</th>\n",
       "      <th>Payment_Mode</th>\n",
       "      <th>Gender</th>\n",
       "      <th>Age</th>\n",
       "      <th>Income_Month</th>\n",
       "      <th>cost_higher_than_price</th>\n",
       "      <th>profit</th>\n",
       "      <th>profit_pkm</th>\n",
       "    </tr>\n",
       "    <tr>\n",
       "      <th>Date_of_Travel</th>\n",
       "      <th></th>\n",
       "      <th></th>\n",
       "      <th></th>\n",
       "      <th></th>\n",
       "      <th></th>\n",
       "      <th></th>\n",
       "      <th></th>\n",
       "      <th></th>\n",
       "      <th></th>\n",
       "      <th></th>\n",
       "      <th></th>\n",
       "      <th></th>\n",
       "      <th></th>\n",
       "      <th></th>\n",
       "    </tr>\n",
       "  </thead>\n",
       "  <tbody>\n",
       "    <tr>\n",
       "      <th>2016-01-02</th>\n",
       "      <td>10001340</td>\n",
       "      <td>52536</td>\n",
       "      <td>Yellow Cab</td>\n",
       "      <td>WASHINGTON DC</td>\n",
       "      <td>10.20</td>\n",
       "      <td>202.54</td>\n",
       "      <td>135.8640</td>\n",
       "      <td>Card</td>\n",
       "      <td>Male</td>\n",
       "      <td>24</td>\n",
       "      <td>10606</td>\n",
       "      <td>False</td>\n",
       "      <td>66.6760</td>\n",
       "      <td>6.536863</td>\n",
       "    </tr>\n",
       "    <tr>\n",
       "      <th>2016-01-02</th>\n",
       "      <td>10000640</td>\n",
       "      <td>4844</td>\n",
       "      <td>Yellow Cab</td>\n",
       "      <td>CHICAGO IL</td>\n",
       "      <td>15.60</td>\n",
       "      <td>374.66</td>\n",
       "      <td>209.6640</td>\n",
       "      <td>Cash</td>\n",
       "      <td>Male</td>\n",
       "      <td>32</td>\n",
       "      <td>5548</td>\n",
       "      <td>False</td>\n",
       "      <td>164.9960</td>\n",
       "      <td>10.576667</td>\n",
       "    </tr>\n",
       "    <tr>\n",
       "      <th>2016-01-02</th>\n",
       "      <td>10000635</td>\n",
       "      <td>5671</td>\n",
       "      <td>Yellow Cab</td>\n",
       "      <td>CHICAGO IL</td>\n",
       "      <td>25.08</td>\n",
       "      <td>532.83</td>\n",
       "      <td>337.0752</td>\n",
       "      <td>Cash</td>\n",
       "      <td>Male</td>\n",
       "      <td>24</td>\n",
       "      <td>7081</td>\n",
       "      <td>False</td>\n",
       "      <td>195.7548</td>\n",
       "      <td>7.805215</td>\n",
       "    </tr>\n",
       "  </tbody>\n",
       "</table>\n",
       "</div>"
      ],
      "text/plain": [
       "                Transaction_ID  Customer_ID     Company           City  \\\n",
       "Date_of_Travel                                                           \n",
       "2016-01-02            10001340        52536  Yellow Cab  WASHINGTON DC   \n",
       "2016-01-02            10000640         4844  Yellow Cab     CHICAGO IL   \n",
       "2016-01-02            10000635         5671  Yellow Cab     CHICAGO IL   \n",
       "\n",
       "                KM_Travelled  Price_Charged  Cost_of_Trip Payment_Mode Gender  \\\n",
       "Date_of_Travel                                                                  \n",
       "2016-01-02             10.20         202.54      135.8640         Card   Male   \n",
       "2016-01-02             15.60         374.66      209.6640         Cash   Male   \n",
       "2016-01-02             25.08         532.83      337.0752         Cash   Male   \n",
       "\n",
       "                Age  Income_Month  cost_higher_than_price    profit  \\\n",
       "Date_of_Travel                                                        \n",
       "2016-01-02       24         10606                   False   66.6760   \n",
       "2016-01-02       32          5548                   False  164.9960   \n",
       "2016-01-02       24          7081                   False  195.7548   \n",
       "\n",
       "                profit_pkm  \n",
       "Date_of_Travel              \n",
       "2016-01-02        6.536863  \n",
       "2016-01-02       10.576667  \n",
       "2016-01-02        7.805215  "
      ]
     },
     "execution_count": 59,
     "metadata": {},
     "output_type": "execute_result"
    }
   ],
   "source": [
    "data_sort = data.set_index('Date_of_Travel').sort_index()\n",
    "data_sort.head(3)"
   ]
  },
  {
   "cell_type": "code",
   "execution_count": 60,
   "metadata": {},
   "outputs": [
    {
     "data": {
      "text/html": [
       "<div>\n",
       "<style scoped>\n",
       "    .dataframe tbody tr th:only-of-type {\n",
       "        vertical-align: middle;\n",
       "    }\n",
       "\n",
       "    .dataframe tbody tr th {\n",
       "        vertical-align: top;\n",
       "    }\n",
       "\n",
       "    .dataframe thead th {\n",
       "        text-align: right;\n",
       "    }\n",
       "</style>\n",
       "<table border=\"1\" class=\"dataframe\">\n",
       "  <thead>\n",
       "    <tr style=\"text-align: right;\">\n",
       "      <th></th>\n",
       "      <th></th>\n",
       "      <th>Transaction_ID</th>\n",
       "    </tr>\n",
       "    <tr>\n",
       "      <th>year</th>\n",
       "      <th>Company</th>\n",
       "      <th></th>\n",
       "    </tr>\n",
       "  </thead>\n",
       "  <tbody>\n",
       "    <tr>\n",
       "      <th rowspan=\"2\" valign=\"top\">2016</th>\n",
       "      <th>Pink Cab</th>\n",
       "      <td>25080</td>\n",
       "    </tr>\n",
       "    <tr>\n",
       "      <th>Yellow Cab</th>\n",
       "      <td>82239</td>\n",
       "    </tr>\n",
       "    <tr>\n",
       "      <th rowspan=\"2\" valign=\"top\">2017</th>\n",
       "      <th>Pink Cab</th>\n",
       "      <td>30321</td>\n",
       "    </tr>\n",
       "    <tr>\n",
       "      <th>Yellow Cab</th>\n",
       "      <td>98189</td>\n",
       "    </tr>\n",
       "    <tr>\n",
       "      <th rowspan=\"2\" valign=\"top\">2018</th>\n",
       "      <th>Pink Cab</th>\n",
       "      <td>29310</td>\n",
       "    </tr>\n",
       "    <tr>\n",
       "      <th>Yellow Cab</th>\n",
       "      <td>94253</td>\n",
       "    </tr>\n",
       "  </tbody>\n",
       "</table>\n",
       "</div>"
      ],
      "text/plain": [
       "                 Transaction_ID\n",
       "year Company                   \n",
       "2016 Pink Cab             25080\n",
       "     Yellow Cab           82239\n",
       "2017 Pink Cab             30321\n",
       "     Yellow Cab           98189\n",
       "2018 Pink Cab             29310\n",
       "     Yellow Cab           94253"
      ]
     },
     "execution_count": 60,
     "metadata": {},
     "output_type": "execute_result"
    }
   ],
   "source": [
    "tran_year = data.groupby([data['Date_of_Travel'].dt.year.rename('year'), data['Company']])['Transaction_ID'].count().to_frame()\n",
    "tran_year"
   ]
  },
  {
   "cell_type": "code",
   "execution_count": 61,
   "metadata": {},
   "outputs": [
    {
     "data": {
      "image/png": "[encoded data removed]",
      "text/plain": [
       "<Figure size 720x288 with 1 Axes>"
      ]
     },
     "metadata": {
      "needs_background": "light"
     },
     "output_type": "display_data"
    }
   ],
   "source": [
    "fig2, ax2 = plt.subplots(1, 1, figsize=(10,4))\n",
    "fig2.suptitle('Transactions by Company and Year', size=20, y=1.02)\n",
    "\n",
    "\n",
    "tran_year.unstack().plot.bar(color= ['hotpink','gold'] ,ax=ax2)\n",
    "\n",
    "\n",
    "\n",
    "# Rotate x labels\n",
    "ax2.set_xticklabels(ax2.get_xticklabels(), rotation=0)\n",
    "\n",
    "# set format to spines\n",
    "ax2.spines['top'].set_visible(False)\n",
    "ax2.spines['left'].set_alpha(0.3)\n",
    "ax2.spines['right'].set_visible(False)\n",
    "ax2.spines['bottom'].set_alpha(0.3)\n",
    "\n",
    "# y axis label\n",
    "ax2.set_ylabel('Number of Transactions')\n",
    "\n",
    "# locating legend box\n",
    "ax2.legend(loc='lower right')\n",
    "\n",
    "# values labels and alpha to bars\n",
    "for p in ax2.patches:\n",
    "    ax2.annotate(text = str(f'{p.get_height():,}'), xy =(p.get_x()+(p.get_width()*0.15), p.get_height() + 1500))\n",
    "    p.set_alpha(0.6)\n"
   ]
  },
  {
   "cell_type": "code",
   "execution_count": 62,
   "metadata": {},
   "outputs": [
    {
     "data": {
      "image/png": "[encoded data removed]",
      "text/plain": [
       "<Figure size 1080x360 with 2 Axes>"
      ]
     },
     "metadata": {
      "needs_background": "light"
     },
     "output_type": "display_data"
    }
   ],
   "source": [
    "# lests put both graphs together\n",
    "\n",
    "fig, (ax1, ax2)  = plt.subplots(1, 2, figsize=(15,5))\n",
    "fig.suptitle('Transactions by Company and Year', size=20, y=1.02)\n",
    "\n",
    "#first graph\n",
    "color1 = ['hotpink','gold']\n",
    "tran_companyplot =tran_company.plot.bar(color=color1, ax=ax1, width=0.5)\n",
    "ax1.set_xticklabels(ax1.get_xticklabels(), rotation=0)\n",
    "ax1.spines['top'].set_visible(False)\n",
    "ax1.spines['left'].set_alpha(0.3)\n",
    "ax1.spines['right'].set_visible(False)\n",
    "ax1.spines['bottom'].set_alpha(0.3)\n",
    "ax1.set_ylabel('Number of Transactions')\n",
    "##ax.patches[0].set_alpha(0.5) ; it is included in the loop\n",
    "##ax.patches[1].set_alpha(0.5)\n",
    "for p in ax1.patches:\n",
    "    ax1.annotate(text = str(f'{p.get_height():,}'), xy =(p.get_x()+(p.get_width()*0.333), p.get_height()+ 1e4))\n",
    "    p.set_alpha(0.6)\n",
    "    \n",
    "    \n",
    "#second graph\n",
    "tran_year.unstack().plot.bar(color= ['hotpink','gold'], ax=ax2)\n",
    "\n",
    "# Rotate x labels\n",
    "ax2.set_xticklabels(ax2.get_xticklabels(), rotation=0)\n",
    "\n",
    "# set format to spines\n",
    "ax2.spines['top'].set_visible(False)\n",
    "ax2.spines['left'].set_alpha(0.3)\n",
    "ax2.spines['right'].set_visible(False)\n",
    "ax2.spines['bottom'].set_alpha(0.3)\n",
    "\n",
    "# y axis label\n",
    "ax2.set_ylabel('Number of Transactions')\n",
    "\n",
    "# locating legend box\n",
    "ax2.legend(loc='lower right')\n",
    "\n",
    "# values labels and alpha to bars\n",
    "for p in ax2.patches:\n",
    "    ax2.annotate(text = str(f'{p.get_height():,}'), xy =(p.get_x()+(p.get_width()*0.15), p.get_height() + 1500))\n",
    "    p.set_alpha(0.6)"
   ]
  },
  {
   "cell_type": "code",
   "execution_count": 63,
   "metadata": {},
   "outputs": [
    {
     "data": {
      "text/plain": [
       "[Text(0, 0, 'Pink Cab'), Text(1, 0, 'Yellow Cab')]"
      ]
     },
     "execution_count": 63,
     "metadata": {},
     "output_type": "execute_result"
    },
    {
     "data": {
      "image/png": "[encoded data removed]",
      "text/plain": [
       "<Figure size 1080x360 with 1 Axes>"
      ]
     },
     "metadata": {
      "needs_background": "light"
     },
     "output_type": "display_data"
    }
   ],
   "source": [
    "# Transactions by company and by month\n",
    "\n",
    "Tran_month = data.groupby([data['Company'],data['Date_of_Travel'].dt.month_name()]).size()\n",
    "Tran_month_u = Tran_month.unstack()\n",
    "Tran_month_u = Tran_month_u[['January','February','March','April','May','June','July','August','September','October','November','December']]\n",
    "\n",
    "fig3, ax3 = plt.subplots(1, 1, figsize=(15,5))\n",
    "fig3.suptitle('Transactions by Company and Month', size=20, y=1.02)\n",
    "Tran_month_u.plot.bar(ax=ax3)\n",
    "ax3.set_xticklabels(ax3.get_xticklabels(), rotation=0)"
   ]
  },
  {
   "cell_type": "code",
   "execution_count": 64,
   "metadata": {},
   "outputs": [
    {
     "data": {
      "text/plain": [
       "[Text(0, 0, '(Pink Cab, 2016)'),\n",
       " Text(1, 0, '(Pink Cab, 2017)'),\n",
       " Text(2, 0, '(Pink Cab, 2018)'),\n",
       " Text(3, 0, '(Yellow Cab, 2016)'),\n",
       " Text(4, 0, '(Yellow Cab, 2017)'),\n",
       " Text(5, 0, '(Yellow Cab, 2018)')]"
      ]
     },
     "execution_count": 64,
     "metadata": {},
     "output_type": "execute_result"
    },
    {
     "data": {
      "image/png": "[encoded data removed]",
      "text/plain": [
       "<Figure size 1080x360 with 1 Axes>"
      ]
     },
     "metadata": {
      "needs_background": "light"
     },
     "output_type": "display_data"
    }
   ],
   "source": [
    "# Transactions by company and by month and year\n",
    "\n",
    "Tran_year_month = data.groupby([data['Company'], data['Date_of_Travel'].dt.year,data['Date_of_Travel'].dt.month_name()]).size()\n",
    "Tran_year_month_u = Tran_year_month.unstack()\n",
    "Tran_year_month_u = Tran_year_month_u[['January','February','March','April','May','June','July','August','September','October','November','December']]\n",
    "\n",
    "fig5, ax5 = plt.subplots(1, 1, figsize=(15,5))\n",
    "fig5.suptitle('Transactions by Company and Month', size=20, y=1.02)\n",
    "Tran_year_month_u.plot.bar(ax=ax5)\n",
    "ax5.set_xticklabels(ax5.get_xticklabels(), rotation=0)"
   ]
  },
  {
   "cell_type": "code",
   "execution_count": null,
   "metadata": {},
   "outputs": [],
   "source": []
  },
  {
   "cell_type": "code",
   "execution_count": 65,
   "metadata": {},
   "outputs": [
    {
     "data": {
      "text/plain": [
       "[Text(0, 0, 'Pink Cab'), Text(1, 0, 'Yellow Cab')]"
      ]
     },
     "execution_count": 65,
     "metadata": {},
     "output_type": "execute_result"
    },
    {
     "data": {
      "image/png": "[encoded data removed]",
      "text/plain": [
       "<Figure size 1080x360 with 1 Axes>"
      ]
     },
     "metadata": {
      "needs_background": "light"
     },
     "output_type": "display_data"
    }
   ],
   "source": [
    "# Transaction by company and day of the week\n",
    "\n",
    "Tran_day = data.groupby([data['Company'],data['Date_of_Travel'].dt.day_name()]).size()\n",
    "Tran_day_u = Tran_day.unstack()\n",
    "\n",
    "#reordering of weekday columns\n",
    "Tran_day_u = Tran_day_u[['Monday','Tuesday','Wednesday','Thursday','Friday','Saturday','Sunday']]\n",
    "\n",
    "fig4, ax4 = plt.subplots(1, 1, figsize=(15,5))\n",
    "fig4.suptitle('Transactions by Company and Weekday', size=20, y=1.02)\n",
    "Tran_day_u.plot.bar(ax=ax4)\n",
    "ax4.set_xticklabels(ax4.get_xticklabels(), rotation=0)"
   ]
  },
  {
   "cell_type": "markdown",
   "metadata": {},
   "source": [
    "### Profit\n",
    "\n",
    "1. Sum of profit by company *\n",
    "2. Average profit by km by company\n",
    "3. Average profit per trip by company\n",
    "4. Average profit per km by company and by city\n",
    "5. Average profit by year and by company\n",
    "\n",
    "###  Customer\n",
    "\n",
    "1. Customer base by age and company\n",
    "4. Customer reach by city"
   ]
  },
  {
   "cell_type": "code",
   "execution_count": 66,
   "metadata": {},
   "outputs": [
    {
     "name": "stdout",
     "output_type": "stream",
     "text": [
      "  Company   | Transactions  | Total Profit  |   Profit/Transaction    \n",
      "--------------------------------------------------------------------\n",
      "Pink Cab    |      84,711.00|   5,307,328.32|          62.65\n",
      "Yellow Cab  |     274,681.00|  44,020,373.17|         160.26\n"
     ]
    }
   ],
   "source": [
    "# Profit by company\n",
    "\n",
    "# number of transactions\n",
    "\n",
    "(co1t, co2t) = data[[ 'Company', 'Transaction_ID']].groupby('Company').size().index\n",
    "(t_co1, t_co2) = data[[ 'Company', 'Transaction_ID']].groupby('Company').size()\n",
    "\n",
    "\n",
    "# Profit\n",
    "\n",
    "(co1, co2) = data[[ 'Company', 'profit']].groupby('Company').agg('sum')['profit'].index\n",
    "(p_co1, p_co2) = data[[ 'Company', 'profit']].groupby('Company').agg('sum')['profit']\n",
    "\n",
    "# Average profit per transaction\n",
    "\n",
    "print(f'{\"Company\":^12}|{\"Transactions\":^15}|{\"Total Profit\":^15}|{\"Profit/Transaction\":^25}')\n",
    "print('-' * 68)\n",
    "print(f'{co1:<12}|{t_co1:>15,.2f}|{p_co1:>15,.2f}|{p_co1/t_co1:>15,.2f}')\n",
    "print(f'{co2:<12}|{t_co2:>15,.2f}|{p_co2:>15,.2f}|{p_co2/t_co2:>15,.2f}')"
   ]
  },
  {
   "cell_type": "code",
   "execution_count": 94,
   "metadata": {},
   "outputs": [
    {
     "name": "stderr",
     "output_type": "stream",
     "text": [
      "<ipython-input-94-3879b9eb6a42>:9: UserWarning: FixedFormatter should only be used together with FixedLocator\n",
      "  ax5.set_yticklabels(ax5.get_yticklabels(), rotation=0)\n"
     ]
    },
    {
     "data": {
      "text/plain": [
       "[Text(0, 0.0, '0'),\n",
       " Text(0, 10000000.0, '10,000,000'),\n",
       " Text(0, 20000000.0, '20,000,000'),\n",
       " Text(0, 30000000.0, '30,000,000'),\n",
       " Text(0, 40000000.0, '40,000,000'),\n",
       " Text(0, 50000000.0, '50,000,000')]"
      ]
     },
     "execution_count": 94,
     "metadata": {},
     "output_type": "execute_result"
    },
    {
     "data": {
      "image/png": "[encoded data removed]",
      "text/plain": [
       "<Figure size 504x360 with 1 Axes>"
      ]
     },
     "metadata": {
      "needs_background": "light"
     },
     "output_type": "display_data"
    }
   ],
   "source": [
    "# graph\n",
    "fig5, ax5  = plt.subplots(1, 1, figsize=(7,5))\n",
    "fig5.suptitle('Total Profit by Company', size=20, y=1.02)\n",
    "\n",
    "color5 = ['hotpink','gold']\n",
    "data[[ 'Company', 'profit']].groupby('Company').agg('sum')['profit'].plot.bar(color=color5, ax=ax5, width=0.5)\n",
    "\n",
    "ax5.set_xticklabels(ax5.get_xticklabels(), rotation=0)\n",
    "ax5.set_yticklabels(ax5.get_yticklabels(), rotation=0)\n",
    "ax5.spines['top'].set_visible(False)\n",
    "ax5.spines['left'].set_alpha(0.3)\n",
    "ax5.spines['right'].set_visible(False)\n",
    "ax5.spines['bottom'].set_alpha(0.3)\n",
    "ax5.set_ylabel('Profit')\n",
    "##ax.patches[0].set_alpha(0.5) ; it is included in the loop\n",
    "##ax.patches[1].set_alpha(0.5)\n",
    "for p in ax5.patches:\n",
    "    ax5.annotate(text = str(f'{p.get_height():,.0f}'), xy =(p.get_x()+(p.get_width()*0.333), p.get_height()+ 1e4))\n",
    "    p.set_alpha(0.6)\n",
    "    \n",
    "# fixing yticks with \"set_yticks\"\n",
    "label_format = '{:,.0f}'\n",
    "ticks_loc = ax5.get_yticks().tolist()\n",
    "ax5.set_yticks(ax5.get_yticks().tolist())\n",
    "ax5.set_yticklabels([label_format.format(x) for x in ticks_loc])"
   ]
  },
  {
   "cell_type": "code",
   "execution_count": 116,
   "metadata": {},
   "outputs": [
    {
     "data": {
      "text/plain": [
       "[Company     Pink Cab    Yellow Cab\n",
       " year                              \n",
       " 2016     1713511.224  1.392700e+07\n",
       " 2017     2033654.908  1.657598e+07\n",
       " 2018     1560162.189  1.351740e+07,\n",
       " <AxesSubplot:xlabel='year'>]"
      ]
     },
     "execution_count": 116,
     "metadata": {},
     "output_type": "execute_result"
    },
    {
     "data": {
      "image/png": "[encoded data removed]",
      "text/plain": [
       "<Figure size 432x288 with 1 Axes>"
      ]
     },
     "metadata": {
      "needs_background": "light"
     },
     "output_type": "display_data"
    }
   ],
   "source": [
    "[data[[ 'Company', 'profit']].groupby(['Company', data['Date_of_Travel'].dt.year.rename('year')]).agg('sum')['profit'].unstack().T,\n",
    "data[[ 'Company', 'profit']].groupby(['Company', data['Date_of_Travel'].dt.year.rename('year')]).agg('sum')['profit'].unstack().T.plot()]"
   ]
  },
  {
   "cell_type": "markdown",
   "metadata": {},
   "source": [
    "## Market share"
   ]
  },
  {
   "cell_type": "code",
   "execution_count": 118,
   "metadata": {},
   "outputs": [
    {
     "data": {
      "text/html": [
       "<div>\n",
       "<style scoped>\n",
       "    .dataframe tbody tr th:only-of-type {\n",
       "        vertical-align: middle;\n",
       "    }\n",
       "\n",
       "    .dataframe tbody tr th {\n",
       "        vertical-align: top;\n",
       "    }\n",
       "\n",
       "    .dataframe thead th {\n",
       "        text-align: right;\n",
       "    }\n",
       "</style>\n",
       "<table border=\"1\" class=\"dataframe\">\n",
       "  <thead>\n",
       "    <tr style=\"text-align: right;\">\n",
       "      <th></th>\n",
       "      <th>Transaction_ID</th>\n",
       "      <th>Customer_ID</th>\n",
       "      <th>Date_of_Travel</th>\n",
       "      <th>Company</th>\n",
       "      <th>City</th>\n",
       "      <th>KM_Travelled</th>\n",
       "      <th>Price_Charged</th>\n",
       "      <th>Cost_of_Trip</th>\n",
       "      <th>Payment_Mode</th>\n",
       "      <th>Gender</th>\n",
       "      <th>Age</th>\n",
       "      <th>Income_Month</th>\n",
       "      <th>cost_higher_than_price</th>\n",
       "      <th>profit</th>\n",
       "      <th>profit_pkm</th>\n",
       "    </tr>\n",
       "  </thead>\n",
       "  <tbody>\n",
       "    <tr>\n",
       "      <th>0</th>\n",
       "      <td>10000011</td>\n",
       "      <td>29290</td>\n",
       "      <td>2016-01-08</td>\n",
       "      <td>Pink Cab</td>\n",
       "      <td>ATLANTA GA</td>\n",
       "      <td>30.45</td>\n",
       "      <td>370.95</td>\n",
       "      <td>313.635</td>\n",
       "      <td>Card</td>\n",
       "      <td>Male</td>\n",
       "      <td>28</td>\n",
       "      <td>10813</td>\n",
       "      <td>False</td>\n",
       "      <td>57.315</td>\n",
       "      <td>1.882266</td>\n",
       "    </tr>\n",
       "    <tr>\n",
       "      <th>1</th>\n",
       "      <td>10000012</td>\n",
       "      <td>27703</td>\n",
       "      <td>2016-01-06</td>\n",
       "      <td>Pink Cab</td>\n",
       "      <td>ATLANTA GA</td>\n",
       "      <td>28.62</td>\n",
       "      <td>358.52</td>\n",
       "      <td>334.854</td>\n",
       "      <td>Card</td>\n",
       "      <td>Male</td>\n",
       "      <td>27</td>\n",
       "      <td>9237</td>\n",
       "      <td>False</td>\n",
       "      <td>23.666</td>\n",
       "      <td>0.826904</td>\n",
       "    </tr>\n",
       "    <tr>\n",
       "      <th>2</th>\n",
       "      <td>10000013</td>\n",
       "      <td>28712</td>\n",
       "      <td>2016-01-02</td>\n",
       "      <td>Pink Cab</td>\n",
       "      <td>ATLANTA GA</td>\n",
       "      <td>9.04</td>\n",
       "      <td>125.20</td>\n",
       "      <td>97.632</td>\n",
       "      <td>Cash</td>\n",
       "      <td>Male</td>\n",
       "      <td>53</td>\n",
       "      <td>11242</td>\n",
       "      <td>False</td>\n",
       "      <td>27.568</td>\n",
       "      <td>3.049558</td>\n",
       "    </tr>\n",
       "  </tbody>\n",
       "</table>\n",
       "</div>"
      ],
      "text/plain": [
       "   Transaction_ID  Customer_ID Date_of_Travel   Company        City  \\\n",
       "0        10000011        29290     2016-01-08  Pink Cab  ATLANTA GA   \n",
       "1        10000012        27703     2016-01-06  Pink Cab  ATLANTA GA   \n",
       "2        10000013        28712     2016-01-02  Pink Cab  ATLANTA GA   \n",
       "\n",
       "   KM_Travelled  Price_Charged  Cost_of_Trip Payment_Mode Gender  Age  \\\n",
       "0         30.45         370.95       313.635         Card   Male   28   \n",
       "1         28.62         358.52       334.854         Card   Male   27   \n",
       "2          9.04         125.20        97.632         Cash   Male   53   \n",
       "\n",
       "   Income_Month  cost_higher_than_price  profit  profit_pkm  \n",
       "0         10813                   False  57.315    1.882266  \n",
       "1          9237                   False  23.666    0.826904  \n",
       "2         11242                   False  27.568    3.049558  "
      ]
     },
     "execution_count": 118,
     "metadata": {},
     "output_type": "execute_result"
    }
   ],
   "source": [
    "data.head(3)"
   ]
  },
  {
   "cell_type": "code",
   "execution_count": 157,
   "metadata": {},
   "outputs": [
    {
     "data": {
      "text/html": [
       "<div>\n",
       "<style scoped>\n",
       "    .dataframe tbody tr th:only-of-type {\n",
       "        vertical-align: middle;\n",
       "    }\n",
       "\n",
       "    .dataframe tbody tr th {\n",
       "        vertical-align: top;\n",
       "    }\n",
       "\n",
       "    .dataframe thead th {\n",
       "        text-align: right;\n",
       "    }\n",
       "</style>\n",
       "<table border=\"1\" class=\"dataframe\">\n",
       "  <thead>\n",
       "    <tr style=\"text-align: right;\">\n",
       "      <th></th>\n",
       "      <th></th>\n",
       "      <th>Customer_ID</th>\n",
       "      <th>Population</th>\n",
       "      <th>Users</th>\n",
       "      <th>users_coverage</th>\n",
       "    </tr>\n",
       "    <tr>\n",
       "      <th>Company</th>\n",
       "      <th>City</th>\n",
       "      <th></th>\n",
       "      <th></th>\n",
       "      <th></th>\n",
       "      <th></th>\n",
       "    </tr>\n",
       "  </thead>\n",
       "  <tbody>\n",
       "    <tr>\n",
       "      <th rowspan=\"19\" valign=\"top\">Pink Cab</th>\n",
       "      <th>ATLANTA GA</th>\n",
       "      <td>1322</td>\n",
       "      <td>814885</td>\n",
       "      <td>24701</td>\n",
       "      <td>0.053520</td>\n",
       "    </tr>\n",
       "    <tr>\n",
       "      <th>AUSTIN TX</th>\n",
       "      <td>1354</td>\n",
       "      <td>698371</td>\n",
       "      <td>14978</td>\n",
       "      <td>0.090399</td>\n",
       "    </tr>\n",
       "    <tr>\n",
       "      <th>BOSTON MA</th>\n",
       "      <td>2463</td>\n",
       "      <td>248968</td>\n",
       "      <td>80021</td>\n",
       "      <td>0.030779</td>\n",
       "    </tr>\n",
       "    <tr>\n",
       "      <th>CHICAGO IL</th>\n",
       "      <td>2859</td>\n",
       "      <td>1955130</td>\n",
       "      <td>164468</td>\n",
       "      <td>0.017383</td>\n",
       "    </tr>\n",
       "    <tr>\n",
       "      <th>DALLAS TX</th>\n",
       "      <td>1118</td>\n",
       "      <td>942908</td>\n",
       "      <td>22157</td>\n",
       "      <td>0.050458</td>\n",
       "    </tr>\n",
       "    <tr>\n",
       "      <th>DENVER CO</th>\n",
       "      <td>1145</td>\n",
       "      <td>754233</td>\n",
       "      <td>12421</td>\n",
       "      <td>0.092183</td>\n",
       "    </tr>\n",
       "    <tr>\n",
       "      <th>LOS ANGELES CA</th>\n",
       "      <td>2996</td>\n",
       "      <td>1595037</td>\n",
       "      <td>144132</td>\n",
       "      <td>0.020787</td>\n",
       "    </tr>\n",
       "    <tr>\n",
       "      <th>MIAMI FL</th>\n",
       "      <td>1480</td>\n",
       "      <td>1339155</td>\n",
       "      <td>17675</td>\n",
       "      <td>0.083734</td>\n",
       "    </tr>\n",
       "    <tr>\n",
       "      <th>NASHVILLE TN</th>\n",
       "      <td>1356</td>\n",
       "      <td>327225</td>\n",
       "      <td>9270</td>\n",
       "      <td>0.146278</td>\n",
       "    </tr>\n",
       "    <tr>\n",
       "      <th>NEW YORK NY</th>\n",
       "      <td>2972</td>\n",
       "      <td>8405837</td>\n",
       "      <td>302149</td>\n",
       "      <td>0.009836</td>\n",
       "    </tr>\n",
       "    <tr>\n",
       "      <th>ORANGE COUNTY</th>\n",
       "      <td>1198</td>\n",
       "      <td>1030185</td>\n",
       "      <td>12994</td>\n",
       "      <td>0.092196</td>\n",
       "    </tr>\n",
       "    <tr>\n",
       "      <th>PHOENIX AZ</th>\n",
       "      <td>763</td>\n",
       "      <td>943999</td>\n",
       "      <td>6133</td>\n",
       "      <td>0.124409</td>\n",
       "    </tr>\n",
       "    <tr>\n",
       "      <th>PITTSBURGH PA</th>\n",
       "      <td>604</td>\n",
       "      <td>542085</td>\n",
       "      <td>3643</td>\n",
       "      <td>0.165797</td>\n",
       "    </tr>\n",
       "    <tr>\n",
       "      <th>SACRAMENTO CA</th>\n",
       "      <td>1078</td>\n",
       "      <td>545776</td>\n",
       "      <td>7044</td>\n",
       "      <td>0.153038</td>\n",
       "    </tr>\n",
       "    <tr>\n",
       "      <th>SAN DIEGO CA</th>\n",
       "      <td>2909</td>\n",
       "      <td>959307</td>\n",
       "      <td>69995</td>\n",
       "      <td>0.041560</td>\n",
       "    </tr>\n",
       "    <tr>\n",
       "      <th>SEATTLE WA</th>\n",
       "      <td>1790</td>\n",
       "      <td>671238</td>\n",
       "      <td>25063</td>\n",
       "      <td>0.071420</td>\n",
       "    </tr>\n",
       "    <tr>\n",
       "      <th>SILICON VALLEY</th>\n",
       "      <td>2130</td>\n",
       "      <td>1177609</td>\n",
       "      <td>27247</td>\n",
       "      <td>0.078174</td>\n",
       "    </tr>\n",
       "    <tr>\n",
       "      <th>TUCSON AZ</th>\n",
       "      <td>684</td>\n",
       "      <td>631442</td>\n",
       "      <td>5712</td>\n",
       "      <td>0.119748</td>\n",
       "    </tr>\n",
       "    <tr>\n",
       "      <th>WASHINGTON DC</th>\n",
       "      <td>2109</td>\n",
       "      <td>418859</td>\n",
       "      <td>127001</td>\n",
       "      <td>0.016606</td>\n",
       "    </tr>\n",
       "    <tr>\n",
       "      <th rowspan=\"19\" valign=\"top\">Yellow Cab</th>\n",
       "      <th>ATLANTA GA</th>\n",
       "      <td>2595</td>\n",
       "      <td>814885</td>\n",
       "      <td>24701</td>\n",
       "      <td>0.105056</td>\n",
       "    </tr>\n",
       "    <tr>\n",
       "      <th>AUSTIN TX</th>\n",
       "      <td>1914</td>\n",
       "      <td>698371</td>\n",
       "      <td>14978</td>\n",
       "      <td>0.127787</td>\n",
       "    </tr>\n",
       "    <tr>\n",
       "      <th>BOSTON MA</th>\n",
       "      <td>2997</td>\n",
       "      <td>248968</td>\n",
       "      <td>80021</td>\n",
       "      <td>0.037453</td>\n",
       "    </tr>\n",
       "    <tr>\n",
       "      <th>CHICAGO IL</th>\n",
       "      <td>3000</td>\n",
       "      <td>1955130</td>\n",
       "      <td>164468</td>\n",
       "      <td>0.018241</td>\n",
       "    </tr>\n",
       "    <tr>\n",
       "      <th>DALLAS TX</th>\n",
       "      <td>2564</td>\n",
       "      <td>942908</td>\n",
       "      <td>22157</td>\n",
       "      <td>0.115720</td>\n",
       "    </tr>\n",
       "    <tr>\n",
       "      <th>DENVER CO</th>\n",
       "      <td>1681</td>\n",
       "      <td>754233</td>\n",
       "      <td>12421</td>\n",
       "      <td>0.135335</td>\n",
       "    </tr>\n",
       "    <tr>\n",
       "      <th>LOS ANGELES CA</th>\n",
       "      <td>2998</td>\n",
       "      <td>1595037</td>\n",
       "      <td>144132</td>\n",
       "      <td>0.020800</td>\n",
       "    </tr>\n",
       "    <tr>\n",
       "      <th>MIAMI FL</th>\n",
       "      <td>2334</td>\n",
       "      <td>1339155</td>\n",
       "      <td>17675</td>\n",
       "      <td>0.132051</td>\n",
       "    </tr>\n",
       "    <tr>\n",
       "      <th>NASHVILLE TN</th>\n",
       "      <td>965</td>\n",
       "      <td>327225</td>\n",
       "      <td>9270</td>\n",
       "      <td>0.104099</td>\n",
       "    </tr>\n",
       "    <tr>\n",
       "      <th>NEW YORK NY</th>\n",
       "      <td>3000</td>\n",
       "      <td>8405837</td>\n",
       "      <td>302149</td>\n",
       "      <td>0.009929</td>\n",
       "    </tr>\n",
       "    <tr>\n",
       "      <th>ORANGE COUNTY</th>\n",
       "      <td>1712</td>\n",
       "      <td>1030185</td>\n",
       "      <td>12994</td>\n",
       "      <td>0.131753</td>\n",
       "    </tr>\n",
       "    <tr>\n",
       "      <th>PHOENIX AZ</th>\n",
       "      <td>994</td>\n",
       "      <td>943999</td>\n",
       "      <td>6133</td>\n",
       "      <td>0.162074</td>\n",
       "    </tr>\n",
       "    <tr>\n",
       "      <th>PITTSBURGH PA</th>\n",
       "      <td>574</td>\n",
       "      <td>542085</td>\n",
       "      <td>3643</td>\n",
       "      <td>0.157562</td>\n",
       "    </tr>\n",
       "    <tr>\n",
       "      <th>SACRAMENTO CA</th>\n",
       "      <td>880</td>\n",
       "      <td>545776</td>\n",
       "      <td>7044</td>\n",
       "      <td>0.124929</td>\n",
       "    </tr>\n",
       "    <tr>\n",
       "      <th>SAN DIEGO CA</th>\n",
       "      <td>2886</td>\n",
       "      <td>959307</td>\n",
       "      <td>69995</td>\n",
       "      <td>0.041232</td>\n",
       "    </tr>\n",
       "    <tr>\n",
       "      <th>SEATTLE WA</th>\n",
       "      <td>2486</td>\n",
       "      <td>671238</td>\n",
       "      <td>25063</td>\n",
       "      <td>0.099190</td>\n",
       "    </tr>\n",
       "    <tr>\n",
       "      <th>SILICON VALLEY</th>\n",
       "      <td>2382</td>\n",
       "      <td>1177609</td>\n",
       "      <td>27247</td>\n",
       "      <td>0.087422</td>\n",
       "    </tr>\n",
       "    <tr>\n",
       "      <th>TUCSON AZ</th>\n",
       "      <td>934</td>\n",
       "      <td>631442</td>\n",
       "      <td>5712</td>\n",
       "      <td>0.163515</td>\n",
       "    </tr>\n",
       "    <tr>\n",
       "      <th>WASHINGTON DC</th>\n",
       "      <td>3000</td>\n",
       "      <td>418859</td>\n",
       "      <td>127001</td>\n",
       "      <td>0.023622</td>\n",
       "    </tr>\n",
       "  </tbody>\n",
       "</table>\n",
       "</div>"
      ],
      "text/plain": [
       "                           Customer_ID  Population   Users  users_coverage\n",
       "Company    City                                                           \n",
       "Pink Cab   ATLANTA GA             1322      814885   24701        0.053520\n",
       "           AUSTIN TX              1354      698371   14978        0.090399\n",
       "           BOSTON MA              2463      248968   80021        0.030779\n",
       "           CHICAGO IL             2859     1955130  164468        0.017383\n",
       "           DALLAS TX              1118      942908   22157        0.050458\n",
       "           DENVER CO              1145      754233   12421        0.092183\n",
       "           LOS ANGELES CA         2996     1595037  144132        0.020787\n",
       "           MIAMI FL               1480     1339155   17675        0.083734\n",
       "           NASHVILLE TN           1356      327225    9270        0.146278\n",
       "           NEW YORK NY            2972     8405837  302149        0.009836\n",
       "           ORANGE COUNTY          1198     1030185   12994        0.092196\n",
       "           PHOENIX AZ              763      943999    6133        0.124409\n",
       "           PITTSBURGH PA           604      542085    3643        0.165797\n",
       "           SACRAMENTO CA          1078      545776    7044        0.153038\n",
       "           SAN DIEGO CA           2909      959307   69995        0.041560\n",
       "           SEATTLE WA             1790      671238   25063        0.071420\n",
       "           SILICON VALLEY         2130     1177609   27247        0.078174\n",
       "           TUCSON AZ               684      631442    5712        0.119748\n",
       "           WASHINGTON DC          2109      418859  127001        0.016606\n",
       "Yellow Cab ATLANTA GA             2595      814885   24701        0.105056\n",
       "           AUSTIN TX              1914      698371   14978        0.127787\n",
       "           BOSTON MA              2997      248968   80021        0.037453\n",
       "           CHICAGO IL             3000     1955130  164468        0.018241\n",
       "           DALLAS TX              2564      942908   22157        0.115720\n",
       "           DENVER CO              1681      754233   12421        0.135335\n",
       "           LOS ANGELES CA         2998     1595037  144132        0.020800\n",
       "           MIAMI FL               2334     1339155   17675        0.132051\n",
       "           NASHVILLE TN            965      327225    9270        0.104099\n",
       "           NEW YORK NY            3000     8405837  302149        0.009929\n",
       "           ORANGE COUNTY          1712     1030185   12994        0.131753\n",
       "           PHOENIX AZ              994      943999    6133        0.162074\n",
       "           PITTSBURGH PA           574      542085    3643        0.157562\n",
       "           SACRAMENTO CA           880      545776    7044        0.124929\n",
       "           SAN DIEGO CA           2886      959307   69995        0.041232\n",
       "           SEATTLE WA             2486      671238   25063        0.099190\n",
       "           SILICON VALLEY         2382     1177609   27247        0.087422\n",
       "           TUCSON AZ               934      631442    5712        0.163515\n",
       "           WASHINGTON DC          3000      418859  127001        0.023622"
      ]
     },
     "execution_count": 157,
     "metadata": {},
     "output_type": "execute_result"
    }
   ],
   "source": [
    "left1 = data[[ 'Company', 'Customer_ID','City']].groupby(['Company', 'City']).nunique()\n",
    "right1 = city.set_index('City')\n",
    "\n",
    "Data_city = left1.join(right1)\n",
    "\n",
    "# Lets create a new variable to know the Users coverage of each company in each city\n",
    "\n",
    "Data_city['users_coverage'] = Data_city['Customer_ID']/Data_city['Users']\n",
    "Data_city"
   ]
  },
  {
   "cell_type": "code",
   "execution_count": 155,
   "metadata": {},
   "outputs": [
    {
     "data": {
      "text/plain": [
       "(Company         Pink Cab  Yellow Cab\n",
       " City                                \n",
       " ATLANTA GA      0.053520    0.105056\n",
       " AUSTIN TX       0.090399    0.127787\n",
       " BOSTON MA       0.030779    0.037453\n",
       " CHICAGO IL      0.017383    0.018241\n",
       " DALLAS TX       0.050458    0.115720\n",
       " DENVER CO       0.092183    0.135335\n",
       " LOS ANGELES CA  0.020787    0.020800\n",
       " MIAMI FL        0.083734    0.132051\n",
       " NASHVILLE TN    0.146278    0.104099\n",
       " NEW YORK NY     0.009836    0.009929\n",
       " ORANGE COUNTY   0.092196    0.131753\n",
       " PHOENIX AZ      0.124409    0.162074\n",
       " PITTSBURGH PA   0.165797    0.157562\n",
       " SACRAMENTO CA   0.153038    0.124929\n",
       " SAN DIEGO CA    0.041560    0.041232\n",
       " SEATTLE WA      0.071420    0.099190\n",
       " SILICON VALLEY  0.078174    0.087422\n",
       " TUCSON AZ       0.119748    0.163515\n",
       " WASHINGTON DC   0.016606    0.023622,\n",
       " <AxesSubplot:xlabel='City'>)"
      ]
     },
     "execution_count": 155,
     "metadata": {},
     "output_type": "execute_result"
    },
    {
     "data": {
      "image/png": "[encoded data removed]",
      "text/plain": [
       "<Figure size 432x288 with 1 Axes>"
      ]
     },
     "metadata": {
      "needs_background": "light"
     },
     "output_type": "display_data"
    }
   ],
   "source": [
    "Data_city.unstack().T.loc['users_coverage',], Data_city.unstack().T.loc['users_coverage',].plot(kind='bar')"
   ]
  },
  {
   "cell_type": "markdown",
   "metadata": {},
   "source": [
    "## Conclusions\n",
    "\n",
    "- Both companies have similar customer caracteristics (gender distributions, age distribution, income distribution, preference by month and day of week).\n",
    "- Yellow Cab Company have more customers than Pink Company.\n",
    "- Yellow Cab Company generate more profit than Pink Company.\n",
    "- Yellow Cab Company have more customer reach than Pink Company in the almost all the cities where there is presence of both companies.\n",
    "- Pink Cab Company have more customer reach then Yellow Company in Nashville,  Sacramento, San Diego and Pittsburgh, but in half of those just by an small difference.\n"
   ]
  },
  {
   "cell_type": "code",
   "execution_count": null,
   "metadata": {},
   "outputs": [],
   "source": []
  }
 ],
 "metadata": {
  "kernelspec": {
   "display_name": "Python 3",
   "language": "python",
   "name": "python3"
  },
  "language_info": {
   "codemirror_mode": {
    "name": "ipython",
    "version": 3
   },
   "file_extension": ".py",
   "mimetype": "text/x-python",
   "name": "python",
   "nbconvert_exporter": "python",
   "pygments_lexer": "ipython3",
   "version": "3.8.5"
  },
  "toc": {
   "base_numbering": 1,
   "nav_menu": {},
   "number_sections": false,
   "sideBar": true,
   "skip_h1_title": false,
   "title_cell": "Table of Contents",
   "title_sidebar": "Contents",
   "toc_cell": false,
   "toc_position": {
    "height": "calc(100% - 180px)",
    "left": "10px",
    "top": "150px",
    "width": "165px"
   },
   "toc_section_display": true,
   "toc_window_display": false
  }
 },
 "nbformat": 4,
 "nbformat_minor": 4
}

{
 "cells": [
  {
   "cell_type": "code",
   "execution_count": 1,
   "metadata": {},
   "outputs": [],
   "source": [
    "# definition of configuration file\n",
    "\n",
    "config = '''dataset_name: 'arboles.csv'\n",
    "dataset_name_to_save: 'arboles.csv.gz'\n",
    "separator_read: ','\n",
    "separator_write: '|'\n",
    "column_names: ['id', 'diametro', 'longitud', 'especie']'''\n",
    "\n",
    "with open('config.yaml', 'w') as f:\n",
    "    f.write(config)"
   ]
  },
  {
   "cell_type": "code",
   "execution_count": 2,
   "metadata": {},
   "outputs": [],
   "source": [
    "# imports\n",
    "\n",
    "import dask.dataframe as dd\n",
    "import yaml"
   ]
  },
  {
   "cell_type": "code",
   "execution_count": 3,
   "metadata": {},
   "outputs": [
    {
     "data": {
      "text/plain": [
       "{'dataset_name': 'arboles.csv',\n",
       " 'dataset_name_to_save': 'arboles.csv.gz',\n",
       " 'separator_read': ',',\n",
       " 'separator_write': '|',\n",
       " 'column_names': ['id', 'diametro', 'longitud', 'especie']}"
      ]
     },
     "execution_count": 3,
     "metadata": {},
     "output_type": "execute_result"
    }
   ],
   "source": [
    "# load configuration info in a dict\n",
    "\n",
    "with open('config.yaml') as f:\n",
    "    config = yaml.load(f, Loader=yaml.FullLoader)\n",
    "\n",
    "config"
   ]
  },
  {
   "cell_type": "code",
   "execution_count": 4,
   "metadata": {},
   "outputs": [],
   "source": [
    "# create dask dataframe\n",
    "\n",
    "df = dd.read_csv(config['dataset_name'], sep = config['separator_read'])\n",
    "\n",
    "# remove special characters\n",
    "\n",
    "df.columns = df.columns.str.replace('[#,@,&]', '', regex=True)\n",
    "\n",
    "# remove white spaces from col names\n",
    "\n",
    "df.columns = df.columns.str.replace(' ', '')"
   ]
  },
  {
   "cell_type": "code",
   "execution_count": 5,
   "metadata": {},
   "outputs": [
    {
     "data": {
      "text/plain": [
       "Index(['id', 'diametro', 'longitud', 'especie'], dtype='object')"
      ]
     },
     "execution_count": 5,
     "metadata": {},
     "output_type": "execute_result"
    }
   ],
   "source": [
    "df.columns"
   ]
  },
  {
   "cell_type": "code",
   "execution_count": 6,
   "metadata": {},
   "outputs": [],
   "source": [
    "# separate columns names as a list\n",
    "\n",
    "column_names = df.columns.values.tolist()"
   ]
  },
  {
   "cell_type": "code",
   "execution_count": 7,
   "metadata": {},
   "outputs": [],
   "source": [
    "# function for csv summary\n",
    "\n",
    "def summary(dataframe):\n",
    "    column_n = len(dataframe.columns)\n",
    "    rows_n = len(dataframe.index)\n",
    "    size = len(dataframe.columns)*len(dataframe.index)\n",
    "    print('Summary')\n",
    "    print('-' * 23)\n",
    "    print(f'Number of columns: {column_n}')\n",
    "    print(f'Number of rows   : {rows_n}')\n",
    "    print(f'Size of dataframe: {size}')\n",
    "    print('\\n')"
   ]
  },
  {
   "cell_type": "code",
   "execution_count": 8,
   "metadata": {},
   "outputs": [
    {
     "name": "stdout",
     "output_type": "stream",
     "text": [
      "Summary\n",
      "-----------------------\n",
      "Number of columns: 4\n",
      "Number of rows   : 42562000\n",
      "Size of dataframe: 170248000\n",
      "\n",
      "\n",
      "file saved as gz format\n"
     ]
    }
   ],
   "source": [
    "# Validate column names\n",
    "\n",
    "if column_names == config['column_names']:\n",
    "    \n",
    "    summary(df)\n",
    "    df.to_csv(config['dataset_name_to_save'],sep = config['separator_write'],compression='gzip')\n",
    "    \n",
    "    print('file saved as gz format')\n",
    "else:\n",
    "    print('columns names are not what expected')\n"
   ]
  }
 ],
 "metadata": {
  "kernelspec": {
   "display_name": "Python 3",
   "language": "python",
   "name": "python3"
  },
  "language_info": {
   "codemirror_mode": {
    "name": "ipython",
    "version": 3
   },
   "file_extension": ".py",
   "mimetype": "text/x-python",
   "name": "python",
   "nbconvert_exporter": "python",
   "pygments_lexer": "ipython3",
   "version": "3.8.5"
  },
  "toc": {
   "base_numbering": 1,
   "nav_menu": {},
   "number_sections": true,
   "sideBar": true,
   "skip_h1_title": false,
   "title_cell": "Table of Contents",
   "title_sidebar": "Contents",
   "toc_cell": false,
   "toc_position": {},
   "toc_section_display": true,
   "toc_window_display": false
  }
 },
 "nbformat": 4,
 "nbformat_minor": 4
}
